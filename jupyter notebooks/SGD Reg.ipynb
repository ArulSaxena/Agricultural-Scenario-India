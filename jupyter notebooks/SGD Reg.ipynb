{
 "cells": [
  {
   "cell_type": "code",
   "execution_count": 1,
   "metadata": {},
   "outputs": [],
   "source": [
    "import numpy as np\n",
    "import pandas as pd\n",
    "import matplotlib.pyplot as plt \n",
    "import seaborn as sns\n",
    "\n",
    "pd.set_option('display.float_format', lambda x: '%.3f' % x)\n",
    "\n",
    "pd.set_option(\"display.precision\", 10)\n",
    "\n",
    "# Don't wrap repr(DataFrame) across additional lines\n",
    "pd.set_option(\"display.expand_frame_repr\", False)\n",
    "\n",
    "# Set max rows displayed in output to 25\n",
    "pd.set_option(\"display.max_rows\", 25)\n"
   ]
  },
  {
   "cell_type": "code",
   "execution_count": 2,
   "metadata": {},
   "outputs": [],
   "source": [
    "df=pd.read_csv('Dataset/final_data.csv')"
   ]
  },
  {
   "cell_type": "code",
   "execution_count": 3,
   "metadata": {
    "scrolled": true
   },
   "outputs": [
    {
     "data": {
      "text/html": [
       "<div>\n",
       "<style scoped>\n",
       "    .dataframe tbody tr th:only-of-type {\n",
       "        vertical-align: middle;\n",
       "    }\n",
       "\n",
       "    .dataframe tbody tr th {\n",
       "        vertical-align: top;\n",
       "    }\n",
       "\n",
       "    .dataframe thead th {\n",
       "        text-align: right;\n",
       "    }\n",
       "</style>\n",
       "<table border=\"1\" class=\"dataframe\">\n",
       "  <thead>\n",
       "    <tr style=\"text-align: right;\">\n",
       "      <th></th>\n",
       "      <th>State_Name</th>\n",
       "      <th>Crop_Year</th>\n",
       "      <th>Crop</th>\n",
       "      <th>Area</th>\n",
       "      <th>Avg_Temp</th>\n",
       "      <th>Avg_Rain</th>\n",
       "      <th>Production</th>\n",
       "      <th>states_id</th>\n",
       "      <th>crop_id</th>\n",
       "    </tr>\n",
       "  </thead>\n",
       "  <tbody>\n",
       "    <tr>\n",
       "      <th>0</th>\n",
       "      <td>Andaman and Nicobar Islands</td>\n",
       "      <td>2000</td>\n",
       "      <td>Arecanut</td>\n",
       "      <td>1254.000</td>\n",
       "      <td>24.600</td>\n",
       "      <td>1050.400</td>\n",
       "      <td>2000.000</td>\n",
       "      <td>1</td>\n",
       "      <td>1</td>\n",
       "    </tr>\n",
       "    <tr>\n",
       "      <th>1</th>\n",
       "      <td>Andaman and Nicobar Islands</td>\n",
       "      <td>2000</td>\n",
       "      <td>Other Kharif pulses</td>\n",
       "      <td>2.000</td>\n",
       "      <td>24.600</td>\n",
       "      <td>1050.400</td>\n",
       "      <td>1.000</td>\n",
       "      <td>1</td>\n",
       "      <td>2</td>\n",
       "    </tr>\n",
       "    <tr>\n",
       "      <th>2</th>\n",
       "      <td>Andaman and Nicobar Islands</td>\n",
       "      <td>2000</td>\n",
       "      <td>Rice</td>\n",
       "      <td>102.000</td>\n",
       "      <td>24.600</td>\n",
       "      <td>1050.400</td>\n",
       "      <td>321.000</td>\n",
       "      <td>1</td>\n",
       "      <td>3</td>\n",
       "    </tr>\n",
       "    <tr>\n",
       "      <th>3</th>\n",
       "      <td>Andaman and Nicobar Islands</td>\n",
       "      <td>2000</td>\n",
       "      <td>Banana</td>\n",
       "      <td>176.000</td>\n",
       "      <td>24.600</td>\n",
       "      <td>1050.400</td>\n",
       "      <td>641.000</td>\n",
       "      <td>1</td>\n",
       "      <td>4</td>\n",
       "    </tr>\n",
       "    <tr>\n",
       "      <th>4</th>\n",
       "      <td>Andaman and Nicobar Islands</td>\n",
       "      <td>2000</td>\n",
       "      <td>Cashewnut</td>\n",
       "      <td>720.000</td>\n",
       "      <td>24.600</td>\n",
       "      <td>1050.400</td>\n",
       "      <td>165.000</td>\n",
       "      <td>1</td>\n",
       "      <td>5</td>\n",
       "    </tr>\n",
       "    <tr>\n",
       "      <th>...</th>\n",
       "      <td>...</td>\n",
       "      <td>...</td>\n",
       "      <td>...</td>\n",
       "      <td>...</td>\n",
       "      <td>...</td>\n",
       "      <td>...</td>\n",
       "      <td>...</td>\n",
       "      <td>...</td>\n",
       "      <td>...</td>\n",
       "    </tr>\n",
       "    <tr>\n",
       "      <th>240437</th>\n",
       "      <td>Sikkim</td>\n",
       "      <td>2015</td>\n",
       "      <td>Soyabean</td>\n",
       "      <td>546.000</td>\n",
       "      <td>26.130</td>\n",
       "      <td>1093.200</td>\n",
       "      <td>520.000</td>\n",
       "      <td>30</td>\n",
       "      <td>52</td>\n",
       "    </tr>\n",
       "    <tr>\n",
       "      <th>240438</th>\n",
       "      <td>Sikkim</td>\n",
       "      <td>2015</td>\n",
       "      <td>Urad</td>\n",
       "      <td>914.000</td>\n",
       "      <td>26.130</td>\n",
       "      <td>1093.200</td>\n",
       "      <td>811.000</td>\n",
       "      <td>30</td>\n",
       "      <td>31</td>\n",
       "    </tr>\n",
       "    <tr>\n",
       "      <th>240439</th>\n",
       "      <td>Sikkim</td>\n",
       "      <td>2015</td>\n",
       "      <td>Barley</td>\n",
       "      <td>12.000</td>\n",
       "      <td>26.130</td>\n",
       "      <td>1093.200</td>\n",
       "      <td>11.000</td>\n",
       "      <td>30</td>\n",
       "      <td>47</td>\n",
       "    </tr>\n",
       "    <tr>\n",
       "      <th>240440</th>\n",
       "      <td>Sikkim</td>\n",
       "      <td>2015</td>\n",
       "      <td>Rapeseed &amp;Mustard</td>\n",
       "      <td>625.000</td>\n",
       "      <td>26.130</td>\n",
       "      <td>1093.200</td>\n",
       "      <td>540.000</td>\n",
       "      <td>30</td>\n",
       "      <td>41</td>\n",
       "    </tr>\n",
       "    <tr>\n",
       "      <th>240441</th>\n",
       "      <td>Sikkim</td>\n",
       "      <td>2015</td>\n",
       "      <td>Wheat</td>\n",
       "      <td>20.000</td>\n",
       "      <td>26.130</td>\n",
       "      <td>1093.200</td>\n",
       "      <td>21.000</td>\n",
       "      <td>30</td>\n",
       "      <td>34</td>\n",
       "    </tr>\n",
       "  </tbody>\n",
       "</table>\n",
       "<p>240442 rows × 9 columns</p>\n",
       "</div>"
      ],
      "text/plain": [
       "                         State_Name  Crop_Year                 Crop     Area  Avg_Temp  Avg_Rain  Production  states_id  crop_id\n",
       "0       Andaman and Nicobar Islands       2000             Arecanut 1254.000    24.600  1050.400    2000.000          1        1\n",
       "1       Andaman and Nicobar Islands       2000  Other Kharif pulses    2.000    24.600  1050.400       1.000          1        2\n",
       "2       Andaman and Nicobar Islands       2000                 Rice  102.000    24.600  1050.400     321.000          1        3\n",
       "3       Andaman and Nicobar Islands       2000               Banana  176.000    24.600  1050.400     641.000          1        4\n",
       "4       Andaman and Nicobar Islands       2000            Cashewnut  720.000    24.600  1050.400     165.000          1        5\n",
       "...                             ...        ...                  ...      ...       ...       ...         ...        ...      ...\n",
       "240437                       Sikkim       2015             Soyabean  546.000    26.130  1093.200     520.000         30       52\n",
       "240438                       Sikkim       2015                 Urad  914.000    26.130  1093.200     811.000         30       31\n",
       "240439                       Sikkim       2015               Barley   12.000    26.130  1093.200      11.000         30       47\n",
       "240440                       Sikkim       2015    Rapeseed &Mustard  625.000    26.130  1093.200     540.000         30       41\n",
       "240441                       Sikkim       2015                Wheat   20.000    26.130  1093.200      21.000         30       34\n",
       "\n",
       "[240442 rows x 9 columns]"
      ]
     },
     "execution_count": 3,
     "metadata": {},
     "output_type": "execute_result"
    }
   ],
   "source": [
    "df"
   ]
  },
  {
   "cell_type": "code",
   "execution_count": 4,
   "metadata": {},
   "outputs": [
    {
     "data": {
      "text/plain": [
       "State_Name       0\n",
       "Crop_Year        0\n",
       "Crop             0\n",
       "Area             0\n",
       "Avg_Temp         0\n",
       "Avg_Rain         0\n",
       "Production    3672\n",
       "states_id        0\n",
       "crop_id          0\n",
       "dtype: int64"
      ]
     },
     "execution_count": 4,
     "metadata": {},
     "output_type": "execute_result"
    }
   ],
   "source": [
    "df.isnull().sum()"
   ]
  },
  {
   "cell_type": "code",
   "execution_count": 5,
   "metadata": {},
   "outputs": [],
   "source": [
    "df['Production'].replace(np.nan,0, inplace=True)"
   ]
  },
  {
   "cell_type": "code",
   "execution_count": 6,
   "metadata": {},
   "outputs": [
    {
     "data": {
      "text/plain": [
       "State_Name    0\n",
       "Crop_Year     0\n",
       "Crop          0\n",
       "Area          0\n",
       "Avg_Temp      0\n",
       "Avg_Rain      0\n",
       "Production    0\n",
       "states_id     0\n",
       "crop_id       0\n",
       "dtype: int64"
      ]
     },
     "execution_count": 6,
     "metadata": {},
     "output_type": "execute_result"
    }
   ],
   "source": [
    "df.isnull().sum()"
   ]
  },
  {
   "cell_type": "code",
   "execution_count": 7,
   "metadata": {},
   "outputs": [
    {
     "name": "stdout",
     "output_type": "stream",
     "text": [
      "<class 'pandas.core.frame.DataFrame'>\n",
      "RangeIndex: 240442 entries, 0 to 240441\n",
      "Data columns (total 9 columns):\n",
      " #   Column      Non-Null Count   Dtype  \n",
      "---  ------      --------------   -----  \n",
      " 0   State_Name  240442 non-null  object \n",
      " 1   Crop_Year   240442 non-null  int64  \n",
      " 2   Crop        240442 non-null  object \n",
      " 3   Area        240442 non-null  float64\n",
      " 4   Avg_Temp    240442 non-null  float64\n",
      " 5   Avg_Rain    240442 non-null  float64\n",
      " 6   Production  240442 non-null  float64\n",
      " 7   states_id   240442 non-null  int64  \n",
      " 8   crop_id     240442 non-null  int64  \n",
      "dtypes: float64(4), int64(3), object(2)\n",
      "memory usage: 16.5+ MB\n"
     ]
    }
   ],
   "source": [
    "df.info()"
   ]
  },
  {
   "cell_type": "code",
   "execution_count": 8,
   "metadata": {},
   "outputs": [],
   "source": [
    "df['Area_10000']=df['Area']/10000\n",
    "\n",
    "\n",
    "df['Prod_1000000']=df['Production']/1000000"
   ]
  },
  {
   "cell_type": "code",
   "execution_count": 9,
   "metadata": {},
   "outputs": [
    {
     "data": {
      "text/plain": [
       "State_Name      0\n",
       "Crop_Year       0\n",
       "Crop            0\n",
       "Area            0\n",
       "Avg_Temp        0\n",
       "Avg_Rain        0\n",
       "Production      0\n",
       "states_id       0\n",
       "crop_id         0\n",
       "Area_10000      0\n",
       "Prod_1000000    0\n",
       "dtype: int64"
      ]
     },
     "execution_count": 9,
     "metadata": {},
     "output_type": "execute_result"
    }
   ],
   "source": [
    "df.isnull().sum()"
   ]
  },
  {
   "cell_type": "code",
   "execution_count": 10,
   "metadata": {},
   "outputs": [
    {
     "data": {
      "text/html": [
       "<div>\n",
       "<style scoped>\n",
       "    .dataframe tbody tr th:only-of-type {\n",
       "        vertical-align: middle;\n",
       "    }\n",
       "\n",
       "    .dataframe tbody tr th {\n",
       "        vertical-align: top;\n",
       "    }\n",
       "\n",
       "    .dataframe thead th {\n",
       "        text-align: right;\n",
       "    }\n",
       "</style>\n",
       "<table border=\"1\" class=\"dataframe\">\n",
       "  <thead>\n",
       "    <tr style=\"text-align: right;\">\n",
       "      <th></th>\n",
       "      <th>Crop_Year</th>\n",
       "      <th>Area</th>\n",
       "      <th>Avg_Temp</th>\n",
       "      <th>Avg_Rain</th>\n",
       "      <th>Production</th>\n",
       "      <th>states_id</th>\n",
       "      <th>crop_id</th>\n",
       "      <th>Area_10000</th>\n",
       "      <th>Prod_1000000</th>\n",
       "    </tr>\n",
       "  </thead>\n",
       "  <tbody>\n",
       "    <tr>\n",
       "      <th>count</th>\n",
       "      <td>240442.000</td>\n",
       "      <td>240442.000</td>\n",
       "      <td>240442.000</td>\n",
       "      <td>240442.000</td>\n",
       "      <td>240442.000</td>\n",
       "      <td>240442.000</td>\n",
       "      <td>240442.000</td>\n",
       "      <td>240442.000</td>\n",
       "      <td>240442.000</td>\n",
       "    </tr>\n",
       "    <tr>\n",
       "      <th>mean</th>\n",
       "      <td>2005.655</td>\n",
       "      <td>11946.438</td>\n",
       "      <td>24.809</td>\n",
       "      <td>1121.037</td>\n",
       "      <td>585758.598</td>\n",
       "      <td>19.998</td>\n",
       "      <td>26.940</td>\n",
       "      <td>1.195</td>\n",
       "      <td>0.586</td>\n",
       "    </tr>\n",
       "    <tr>\n",
       "      <th>std</th>\n",
       "      <td>4.953</td>\n",
       "      <td>50856.175</td>\n",
       "      <td>0.255</td>\n",
       "      <td>92.857</td>\n",
       "      <td>17133603.708</td>\n",
       "      <td>10.706</td>\n",
       "      <td>17.823</td>\n",
       "      <td>5.086</td>\n",
       "      <td>17.134</td>\n",
       "    </tr>\n",
       "    <tr>\n",
       "      <th>min</th>\n",
       "      <td>1997.000</td>\n",
       "      <td>0.040</td>\n",
       "      <td>24.100</td>\n",
       "      <td>920.800</td>\n",
       "      <td>0.000</td>\n",
       "      <td>1.000</td>\n",
       "      <td>1.000</td>\n",
       "      <td>0.000</td>\n",
       "      <td>0.000</td>\n",
       "    </tr>\n",
       "    <tr>\n",
       "      <th>25%</th>\n",
       "      <td>2002.000</td>\n",
       "      <td>80.000</td>\n",
       "      <td>24.660</td>\n",
       "      <td>1071.300</td>\n",
       "      <td>75.000</td>\n",
       "      <td>12.000</td>\n",
       "      <td>15.000</td>\n",
       "      <td>0.008</td>\n",
       "      <td>0.000</td>\n",
       "    </tr>\n",
       "    <tr>\n",
       "      <th>50%</th>\n",
       "      <td>2006.000</td>\n",
       "      <td>565.000</td>\n",
       "      <td>24.740</td>\n",
       "      <td>1132.000</td>\n",
       "      <td>674.000</td>\n",
       "      <td>20.000</td>\n",
       "      <td>24.000</td>\n",
       "      <td>0.057</td>\n",
       "      <td>0.001</td>\n",
       "    </tr>\n",
       "    <tr>\n",
       "      <th>75%</th>\n",
       "      <td>2010.000</td>\n",
       "      <td>4279.750</td>\n",
       "      <td>25.060</td>\n",
       "      <td>1200.500</td>\n",
       "      <td>6589.000</td>\n",
       "      <td>31.000</td>\n",
       "      <td>36.000</td>\n",
       "      <td>0.428</td>\n",
       "      <td>0.007</td>\n",
       "    </tr>\n",
       "    <tr>\n",
       "      <th>max</th>\n",
       "      <td>2015.000</td>\n",
       "      <td>8580100.000</td>\n",
       "      <td>26.130</td>\n",
       "      <td>1243.500</td>\n",
       "      <td>1250800000.000</td>\n",
       "      <td>35.000</td>\n",
       "      <td>123.000</td>\n",
       "      <td>858.010</td>\n",
       "      <td>1250.800</td>\n",
       "    </tr>\n",
       "  </tbody>\n",
       "</table>\n",
       "</div>"
      ],
      "text/plain": [
       "       Crop_Year        Area   Avg_Temp   Avg_Rain     Production  states_id    crop_id  Area_10000  Prod_1000000\n",
       "count 240442.000  240442.000 240442.000 240442.000     240442.000 240442.000 240442.000  240442.000    240442.000\n",
       "mean    2005.655   11946.438     24.809   1121.037     585758.598     19.998     26.940       1.195         0.586\n",
       "std        4.953   50856.175      0.255     92.857   17133603.708     10.706     17.823       5.086        17.134\n",
       "min     1997.000       0.040     24.100    920.800          0.000      1.000      1.000       0.000         0.000\n",
       "25%     2002.000      80.000     24.660   1071.300         75.000     12.000     15.000       0.008         0.000\n",
       "50%     2006.000     565.000     24.740   1132.000        674.000     20.000     24.000       0.057         0.001\n",
       "75%     2010.000    4279.750     25.060   1200.500       6589.000     31.000     36.000       0.428         0.007\n",
       "max     2015.000 8580100.000     26.130   1243.500 1250800000.000     35.000    123.000     858.010      1250.800"
      ]
     },
     "execution_count": 10,
     "metadata": {},
     "output_type": "execute_result"
    }
   ],
   "source": [
    "df.describe()"
   ]
  },
  {
   "cell_type": "code",
   "execution_count": 11,
   "metadata": {},
   "outputs": [
    {
     "data": {
      "text/plain": [
       "<matplotlib.axes._subplots.AxesSubplot at 0x2d548e847f0>"
      ]
     },
     "execution_count": 11,
     "metadata": {},
     "output_type": "execute_result"
    },
    {
     "data": {
      "image/png": "[encoded data removed]",
      "text/plain": [
       "<Figure size 432x288 with 1 Axes>"
      ]
     },
     "metadata": {
      "needs_background": "light"
     },
     "output_type": "display_data"
    }
   ],
   "source": [
    "sns.boxplot(df['Production'])"
   ]
  },
  {
   "cell_type": "code",
   "execution_count": 12,
   "metadata": {},
   "outputs": [
    {
     "name": "stdout",
     "output_type": "stream",
     "text": [
      "16578.5\n",
      "-9825.5\n"
     ]
    }
   ],
   "source": [
    "# Prodcution outliers\n",
    "IQR=6677.000-76.000\n",
    "upper_bound=(1.5*IQR)+6677.000\n",
    "lower_bound=76.000-(1.5*IQR)\n",
    "print(upper_bound)\n",
    "print(lower_bound)"
   ]
  },
  {
   "cell_type": "code",
   "execution_count": 13,
   "metadata": {},
   "outputs": [
    {
     "name": "stdout",
     "output_type": "stream",
     "text": [
      "10928.5\n",
      "-6427.5\n"
     ]
    }
   ],
   "source": [
    "# Area outliers\n",
    "IQR_a=4420.000-81.000\n",
    "upper_bound_a=(1.5*IQR_a)+4420.000\n",
    "lower_bound_a=81.000-(1.5*IQR_a)\n",
    "print(upper_bound_a)\n",
    "print(lower_bound_a)"
   ]
  },
  {
   "cell_type": "code",
   "execution_count": 14,
   "metadata": {},
   "outputs": [],
   "source": [
    "df=df[df.Production <=16578.5 ]"
   ]
  },
  {
   "cell_type": "code",
   "execution_count": 15,
   "metadata": {},
   "outputs": [],
   "source": [
    "df=df[df.Production <=16578.5 ]"
   ]
  },
  {
   "cell_type": "code",
   "execution_count": 16,
   "metadata": {},
   "outputs": [],
   "source": [
    "df=df[df.Area <=10928.5 ]"
   ]
  },
  {
   "cell_type": "code",
   "execution_count": 17,
   "metadata": {},
   "outputs": [],
   "source": [
    "df=df[df.Production>=-6427.5]"
   ]
  },
  {
   "cell_type": "code",
   "execution_count": 18,
   "metadata": {},
   "outputs": [
    {
     "data": {
      "text/html": [
       "<div>\n",
       "<style scoped>\n",
       "    .dataframe tbody tr th:only-of-type {\n",
       "        vertical-align: middle;\n",
       "    }\n",
       "\n",
       "    .dataframe tbody tr th {\n",
       "        vertical-align: top;\n",
       "    }\n",
       "\n",
       "    .dataframe thead th {\n",
       "        text-align: right;\n",
       "    }\n",
       "</style>\n",
       "<table border=\"1\" class=\"dataframe\">\n",
       "  <thead>\n",
       "    <tr style=\"text-align: right;\">\n",
       "      <th></th>\n",
       "      <th>State_Name</th>\n",
       "      <th>Crop_Year</th>\n",
       "      <th>Crop</th>\n",
       "      <th>Area</th>\n",
       "      <th>Avg_Temp</th>\n",
       "      <th>Avg_Rain</th>\n",
       "      <th>Production</th>\n",
       "      <th>states_id</th>\n",
       "      <th>crop_id</th>\n",
       "      <th>Area_10000</th>\n",
       "      <th>Prod_1000000</th>\n",
       "    </tr>\n",
       "  </thead>\n",
       "  <tbody>\n",
       "    <tr>\n",
       "      <th>0</th>\n",
       "      <td>Andaman and Nicobar Islands</td>\n",
       "      <td>2000</td>\n",
       "      <td>Arecanut</td>\n",
       "      <td>1254.000</td>\n",
       "      <td>24.600</td>\n",
       "      <td>1050.400</td>\n",
       "      <td>2000.000</td>\n",
       "      <td>1</td>\n",
       "      <td>1</td>\n",
       "      <td>0.125</td>\n",
       "      <td>0.002</td>\n",
       "    </tr>\n",
       "    <tr>\n",
       "      <th>1</th>\n",
       "      <td>Andaman and Nicobar Islands</td>\n",
       "      <td>2000</td>\n",
       "      <td>Other Kharif pulses</td>\n",
       "      <td>2.000</td>\n",
       "      <td>24.600</td>\n",
       "      <td>1050.400</td>\n",
       "      <td>1.000</td>\n",
       "      <td>1</td>\n",
       "      <td>2</td>\n",
       "      <td>0.000</td>\n",
       "      <td>0.000</td>\n",
       "    </tr>\n",
       "    <tr>\n",
       "      <th>2</th>\n",
       "      <td>Andaman and Nicobar Islands</td>\n",
       "      <td>2000</td>\n",
       "      <td>Rice</td>\n",
       "      <td>102.000</td>\n",
       "      <td>24.600</td>\n",
       "      <td>1050.400</td>\n",
       "      <td>321.000</td>\n",
       "      <td>1</td>\n",
       "      <td>3</td>\n",
       "      <td>0.010</td>\n",
       "      <td>0.000</td>\n",
       "    </tr>\n",
       "    <tr>\n",
       "      <th>3</th>\n",
       "      <td>Andaman and Nicobar Islands</td>\n",
       "      <td>2000</td>\n",
       "      <td>Banana</td>\n",
       "      <td>176.000</td>\n",
       "      <td>24.600</td>\n",
       "      <td>1050.400</td>\n",
       "      <td>641.000</td>\n",
       "      <td>1</td>\n",
       "      <td>4</td>\n",
       "      <td>0.018</td>\n",
       "      <td>0.001</td>\n",
       "    </tr>\n",
       "    <tr>\n",
       "      <th>4</th>\n",
       "      <td>Andaman and Nicobar Islands</td>\n",
       "      <td>2000</td>\n",
       "      <td>Cashewnut</td>\n",
       "      <td>720.000</td>\n",
       "      <td>24.600</td>\n",
       "      <td>1050.400</td>\n",
       "      <td>165.000</td>\n",
       "      <td>1</td>\n",
       "      <td>5</td>\n",
       "      <td>0.072</td>\n",
       "      <td>0.000</td>\n",
       "    </tr>\n",
       "    <tr>\n",
       "      <th>...</th>\n",
       "      <td>...</td>\n",
       "      <td>...</td>\n",
       "      <td>...</td>\n",
       "      <td>...</td>\n",
       "      <td>...</td>\n",
       "      <td>...</td>\n",
       "      <td>...</td>\n",
       "      <td>...</td>\n",
       "      <td>...</td>\n",
       "      <td>...</td>\n",
       "      <td>...</td>\n",
       "    </tr>\n",
       "    <tr>\n",
       "      <th>240437</th>\n",
       "      <td>Sikkim</td>\n",
       "      <td>2015</td>\n",
       "      <td>Soyabean</td>\n",
       "      <td>546.000</td>\n",
       "      <td>26.130</td>\n",
       "      <td>1093.200</td>\n",
       "      <td>520.000</td>\n",
       "      <td>30</td>\n",
       "      <td>52</td>\n",
       "      <td>0.055</td>\n",
       "      <td>0.001</td>\n",
       "    </tr>\n",
       "    <tr>\n",
       "      <th>240438</th>\n",
       "      <td>Sikkim</td>\n",
       "      <td>2015</td>\n",
       "      <td>Urad</td>\n",
       "      <td>914.000</td>\n",
       "      <td>26.130</td>\n",
       "      <td>1093.200</td>\n",
       "      <td>811.000</td>\n",
       "      <td>30</td>\n",
       "      <td>31</td>\n",
       "      <td>0.091</td>\n",
       "      <td>0.001</td>\n",
       "    </tr>\n",
       "    <tr>\n",
       "      <th>240439</th>\n",
       "      <td>Sikkim</td>\n",
       "      <td>2015</td>\n",
       "      <td>Barley</td>\n",
       "      <td>12.000</td>\n",
       "      <td>26.130</td>\n",
       "      <td>1093.200</td>\n",
       "      <td>11.000</td>\n",
       "      <td>30</td>\n",
       "      <td>47</td>\n",
       "      <td>0.001</td>\n",
       "      <td>0.000</td>\n",
       "    </tr>\n",
       "    <tr>\n",
       "      <th>240440</th>\n",
       "      <td>Sikkim</td>\n",
       "      <td>2015</td>\n",
       "      <td>Rapeseed &amp;Mustard</td>\n",
       "      <td>625.000</td>\n",
       "      <td>26.130</td>\n",
       "      <td>1093.200</td>\n",
       "      <td>540.000</td>\n",
       "      <td>30</td>\n",
       "      <td>41</td>\n",
       "      <td>0.062</td>\n",
       "      <td>0.001</td>\n",
       "    </tr>\n",
       "    <tr>\n",
       "      <th>240441</th>\n",
       "      <td>Sikkim</td>\n",
       "      <td>2015</td>\n",
       "      <td>Wheat</td>\n",
       "      <td>20.000</td>\n",
       "      <td>26.130</td>\n",
       "      <td>1093.200</td>\n",
       "      <td>21.000</td>\n",
       "      <td>30</td>\n",
       "      <td>34</td>\n",
       "      <td>0.002</td>\n",
       "      <td>0.000</td>\n",
       "    </tr>\n",
       "  </tbody>\n",
       "</table>\n",
       "<p>189751 rows × 11 columns</p>\n",
       "</div>"
      ],
      "text/plain": [
       "                         State_Name  Crop_Year                 Crop     Area  Avg_Temp  Avg_Rain  Production  states_id  crop_id  Area_10000  Prod_1000000\n",
       "0       Andaman and Nicobar Islands       2000             Arecanut 1254.000    24.600  1050.400    2000.000          1        1       0.125         0.002\n",
       "1       Andaman and Nicobar Islands       2000  Other Kharif pulses    2.000    24.600  1050.400       1.000          1        2       0.000         0.000\n",
       "2       Andaman and Nicobar Islands       2000                 Rice  102.000    24.600  1050.400     321.000          1        3       0.010         0.000\n",
       "3       Andaman and Nicobar Islands       2000               Banana  176.000    24.600  1050.400     641.000          1        4       0.018         0.001\n",
       "4       Andaman and Nicobar Islands       2000            Cashewnut  720.000    24.600  1050.400     165.000          1        5       0.072         0.000\n",
       "...                             ...        ...                  ...      ...       ...       ...         ...        ...      ...         ...           ...\n",
       "240437                       Sikkim       2015             Soyabean  546.000    26.130  1093.200     520.000         30       52       0.055         0.001\n",
       "240438                       Sikkim       2015                 Urad  914.000    26.130  1093.200     811.000         30       31       0.091         0.001\n",
       "240439                       Sikkim       2015               Barley   12.000    26.130  1093.200      11.000         30       47       0.001         0.000\n",
       "240440                       Sikkim       2015    Rapeseed &Mustard  625.000    26.130  1093.200     540.000         30       41       0.062         0.001\n",
       "240441                       Sikkim       2015                Wheat   20.000    26.130  1093.200      21.000         30       34       0.002         0.000\n",
       "\n",
       "[189751 rows x 11 columns]"
      ]
     },
     "execution_count": 18,
     "metadata": {},
     "output_type": "execute_result"
    }
   ],
   "source": [
    "df"
   ]
  },
  {
   "cell_type": "code",
   "execution_count": 19,
   "metadata": {},
   "outputs": [
    {
     "data": {
      "text/plain": [
       "<matplotlib.axes._subplots.AxesSubplot at 0x2d548f94490>"
      ]
     },
     "execution_count": 19,
     "metadata": {},
     "output_type": "execute_result"
    },
    {
     "data": {
      "image/png": "[encoded data removed]",
      "text/plain": [
       "<Figure size 432x288 with 1 Axes>"
      ]
     },
     "metadata": {
      "needs_background": "light"
     },
     "output_type": "display_data"
    }
   ],
   "source": [
    "sns.boxplot(df['Production'])"
   ]
  },
  {
   "cell_type": "code",
   "execution_count": 20,
   "metadata": {},
   "outputs": [
    {
     "data": {
      "text/plain": [
       "Index(['State_Name', 'Crop_Year', 'Crop', 'Area', 'Avg_Temp', 'Avg_Rain',\n",
       "       'Production', 'states_id', 'crop_id', 'Area_10000', 'Prod_1000000'],\n",
       "      dtype='object')"
      ]
     },
     "execution_count": 20,
     "metadata": {},
     "output_type": "execute_result"
    }
   ],
   "source": [
    "df.columns"
   ]
  },
  {
   "cell_type": "code",
   "execution_count": 21,
   "metadata": {},
   "outputs": [
    {
     "data": {
      "text/plain": [
       "Uttar Pradesh                  26105\n",
       "Madhya Pradesh                 17622\n",
       "Karnataka                      16282\n",
       "Bihar                          15602\n",
       "Assam                          12080\n",
       "                               ...  \n",
       "Sikkim                           671\n",
       "Dadra and Nagar Haveli           232\n",
       "Andaman and Nicobar Islands      176\n",
       "Goa                              126\n",
       "Chandigarh                        90\n",
       "Name: State_Name, Length: 32, dtype: int64"
      ]
     },
     "execution_count": 21,
     "metadata": {},
     "output_type": "execute_result"
    }
   ],
   "source": [
    "df['State_Name'].value_counts()"
   ]
  },
  {
   "cell_type": "code",
   "execution_count": 22,
   "metadata": {},
   "outputs": [],
   "source": [
    "import category_encoders as ce"
   ]
  },
  {
   "cell_type": "code",
   "execution_count": 23,
   "metadata": {},
   "outputs": [],
   "source": [
    "\n",
    "encoder=ce.sum_coding.SumEncoder(cols='Crop',verbose=False,)"
   ]
  },
  {
   "cell_type": "code",
   "execution_count": 24,
   "metadata": {},
   "outputs": [],
   "source": [
    "encoder_state=ce.sum_coding.SumEncoder(cols='State_Name',verbose=False,)"
   ]
  },
  {
   "cell_type": "code",
   "execution_count": 25,
   "metadata": {},
   "outputs": [],
   "source": [
    "df_encoded=encoder.fit_transform(df)\n",
    "df_encoded_1=encoder_state.fit_transform(df_encoded)"
   ]
  },
  {
   "cell_type": "code",
   "execution_count": 26,
   "metadata": {},
   "outputs": [
    {
     "data": {
      "text/html": [
       "<div>\n",
       "<style scoped>\n",
       "    .dataframe tbody tr th:only-of-type {\n",
       "        vertical-align: middle;\n",
       "    }\n",
       "\n",
       "    .dataframe tbody tr th {\n",
       "        vertical-align: top;\n",
       "    }\n",
       "\n",
       "    .dataframe thead th {\n",
       "        text-align: right;\n",
       "    }\n",
       "</style>\n",
       "<table border=\"1\" class=\"dataframe\">\n",
       "  <thead>\n",
       "    <tr style=\"text-align: right;\">\n",
       "      <th></th>\n",
       "      <th>intercept</th>\n",
       "      <th>intercept</th>\n",
       "      <th>State_Name_0</th>\n",
       "      <th>State_Name_1</th>\n",
       "      <th>State_Name_2</th>\n",
       "      <th>State_Name_3</th>\n",
       "      <th>State_Name_4</th>\n",
       "      <th>State_Name_5</th>\n",
       "      <th>State_Name_6</th>\n",
       "      <th>State_Name_7</th>\n",
       "      <th>...</th>\n",
       "      <th>Crop_120</th>\n",
       "      <th>Crop_121</th>\n",
       "      <th>Area</th>\n",
       "      <th>Avg_Temp</th>\n",
       "      <th>Avg_Rain</th>\n",
       "      <th>Production</th>\n",
       "      <th>states_id</th>\n",
       "      <th>crop_id</th>\n",
       "      <th>Area_10000</th>\n",
       "      <th>Prod_1000000</th>\n",
       "    </tr>\n",
       "  </thead>\n",
       "  <tbody>\n",
       "    <tr>\n",
       "      <th>0</th>\n",
       "      <td>1</td>\n",
       "      <td>1</td>\n",
       "      <td>1.000</td>\n",
       "      <td>0.000</td>\n",
       "      <td>0.000</td>\n",
       "      <td>0.000</td>\n",
       "      <td>0.000</td>\n",
       "      <td>0.000</td>\n",
       "      <td>0.000</td>\n",
       "      <td>0.000</td>\n",
       "      <td>...</td>\n",
       "      <td>0.000</td>\n",
       "      <td>0.000</td>\n",
       "      <td>1254.000</td>\n",
       "      <td>24.600</td>\n",
       "      <td>1050.400</td>\n",
       "      <td>2000.000</td>\n",
       "      <td>1</td>\n",
       "      <td>1</td>\n",
       "      <td>0.125</td>\n",
       "      <td>0.002</td>\n",
       "    </tr>\n",
       "    <tr>\n",
       "      <th>1</th>\n",
       "      <td>1</td>\n",
       "      <td>1</td>\n",
       "      <td>1.000</td>\n",
       "      <td>0.000</td>\n",
       "      <td>0.000</td>\n",
       "      <td>0.000</td>\n",
       "      <td>0.000</td>\n",
       "      <td>0.000</td>\n",
       "      <td>0.000</td>\n",
       "      <td>0.000</td>\n",
       "      <td>...</td>\n",
       "      <td>0.000</td>\n",
       "      <td>0.000</td>\n",
       "      <td>2.000</td>\n",
       "      <td>24.600</td>\n",
       "      <td>1050.400</td>\n",
       "      <td>1.000</td>\n",
       "      <td>1</td>\n",
       "      <td>2</td>\n",
       "      <td>0.000</td>\n",
       "      <td>0.000</td>\n",
       "    </tr>\n",
       "    <tr>\n",
       "      <th>2</th>\n",
       "      <td>1</td>\n",
       "      <td>1</td>\n",
       "      <td>1.000</td>\n",
       "      <td>0.000</td>\n",
       "      <td>0.000</td>\n",
       "      <td>0.000</td>\n",
       "      <td>0.000</td>\n",
       "      <td>0.000</td>\n",
       "      <td>0.000</td>\n",
       "      <td>0.000</td>\n",
       "      <td>...</td>\n",
       "      <td>0.000</td>\n",
       "      <td>0.000</td>\n",
       "      <td>102.000</td>\n",
       "      <td>24.600</td>\n",
       "      <td>1050.400</td>\n",
       "      <td>321.000</td>\n",
       "      <td>1</td>\n",
       "      <td>3</td>\n",
       "      <td>0.010</td>\n",
       "      <td>0.000</td>\n",
       "    </tr>\n",
       "    <tr>\n",
       "      <th>3</th>\n",
       "      <td>1</td>\n",
       "      <td>1</td>\n",
       "      <td>1.000</td>\n",
       "      <td>0.000</td>\n",
       "      <td>0.000</td>\n",
       "      <td>0.000</td>\n",
       "      <td>0.000</td>\n",
       "      <td>0.000</td>\n",
       "      <td>0.000</td>\n",
       "      <td>0.000</td>\n",
       "      <td>...</td>\n",
       "      <td>0.000</td>\n",
       "      <td>0.000</td>\n",
       "      <td>176.000</td>\n",
       "      <td>24.600</td>\n",
       "      <td>1050.400</td>\n",
       "      <td>641.000</td>\n",
       "      <td>1</td>\n",
       "      <td>4</td>\n",
       "      <td>0.018</td>\n",
       "      <td>0.001</td>\n",
       "    </tr>\n",
       "    <tr>\n",
       "      <th>4</th>\n",
       "      <td>1</td>\n",
       "      <td>1</td>\n",
       "      <td>1.000</td>\n",
       "      <td>0.000</td>\n",
       "      <td>0.000</td>\n",
       "      <td>0.000</td>\n",
       "      <td>0.000</td>\n",
       "      <td>0.000</td>\n",
       "      <td>0.000</td>\n",
       "      <td>0.000</td>\n",
       "      <td>...</td>\n",
       "      <td>0.000</td>\n",
       "      <td>0.000</td>\n",
       "      <td>720.000</td>\n",
       "      <td>24.600</td>\n",
       "      <td>1050.400</td>\n",
       "      <td>165.000</td>\n",
       "      <td>1</td>\n",
       "      <td>5</td>\n",
       "      <td>0.072</td>\n",
       "      <td>0.000</td>\n",
       "    </tr>\n",
       "    <tr>\n",
       "      <th>...</th>\n",
       "      <td>...</td>\n",
       "      <td>...</td>\n",
       "      <td>...</td>\n",
       "      <td>...</td>\n",
       "      <td>...</td>\n",
       "      <td>...</td>\n",
       "      <td>...</td>\n",
       "      <td>...</td>\n",
       "      <td>...</td>\n",
       "      <td>...</td>\n",
       "      <td>...</td>\n",
       "      <td>...</td>\n",
       "      <td>...</td>\n",
       "      <td>...</td>\n",
       "      <td>...</td>\n",
       "      <td>...</td>\n",
       "      <td>...</td>\n",
       "      <td>...</td>\n",
       "      <td>...</td>\n",
       "      <td>...</td>\n",
       "      <td>...</td>\n",
       "    </tr>\n",
       "    <tr>\n",
       "      <th>240437</th>\n",
       "      <td>1</td>\n",
       "      <td>1</td>\n",
       "      <td>0.000</td>\n",
       "      <td>0.000</td>\n",
       "      <td>0.000</td>\n",
       "      <td>0.000</td>\n",
       "      <td>0.000</td>\n",
       "      <td>0.000</td>\n",
       "      <td>0.000</td>\n",
       "      <td>0.000</td>\n",
       "      <td>...</td>\n",
       "      <td>0.000</td>\n",
       "      <td>0.000</td>\n",
       "      <td>546.000</td>\n",
       "      <td>26.130</td>\n",
       "      <td>1093.200</td>\n",
       "      <td>520.000</td>\n",
       "      <td>30</td>\n",
       "      <td>52</td>\n",
       "      <td>0.055</td>\n",
       "      <td>0.001</td>\n",
       "    </tr>\n",
       "    <tr>\n",
       "      <th>240438</th>\n",
       "      <td>1</td>\n",
       "      <td>1</td>\n",
       "      <td>0.000</td>\n",
       "      <td>0.000</td>\n",
       "      <td>0.000</td>\n",
       "      <td>0.000</td>\n",
       "      <td>0.000</td>\n",
       "      <td>0.000</td>\n",
       "      <td>0.000</td>\n",
       "      <td>0.000</td>\n",
       "      <td>...</td>\n",
       "      <td>0.000</td>\n",
       "      <td>0.000</td>\n",
       "      <td>914.000</td>\n",
       "      <td>26.130</td>\n",
       "      <td>1093.200</td>\n",
       "      <td>811.000</td>\n",
       "      <td>30</td>\n",
       "      <td>31</td>\n",
       "      <td>0.091</td>\n",
       "      <td>0.001</td>\n",
       "    </tr>\n",
       "    <tr>\n",
       "      <th>240439</th>\n",
       "      <td>1</td>\n",
       "      <td>1</td>\n",
       "      <td>0.000</td>\n",
       "      <td>0.000</td>\n",
       "      <td>0.000</td>\n",
       "      <td>0.000</td>\n",
       "      <td>0.000</td>\n",
       "      <td>0.000</td>\n",
       "      <td>0.000</td>\n",
       "      <td>0.000</td>\n",
       "      <td>...</td>\n",
       "      <td>0.000</td>\n",
       "      <td>0.000</td>\n",
       "      <td>12.000</td>\n",
       "      <td>26.130</td>\n",
       "      <td>1093.200</td>\n",
       "      <td>11.000</td>\n",
       "      <td>30</td>\n",
       "      <td>47</td>\n",
       "      <td>0.001</td>\n",
       "      <td>0.000</td>\n",
       "    </tr>\n",
       "    <tr>\n",
       "      <th>240440</th>\n",
       "      <td>1</td>\n",
       "      <td>1</td>\n",
       "      <td>0.000</td>\n",
       "      <td>0.000</td>\n",
       "      <td>0.000</td>\n",
       "      <td>0.000</td>\n",
       "      <td>0.000</td>\n",
       "      <td>0.000</td>\n",
       "      <td>0.000</td>\n",
       "      <td>0.000</td>\n",
       "      <td>...</td>\n",
       "      <td>0.000</td>\n",
       "      <td>0.000</td>\n",
       "      <td>625.000</td>\n",
       "      <td>26.130</td>\n",
       "      <td>1093.200</td>\n",
       "      <td>540.000</td>\n",
       "      <td>30</td>\n",
       "      <td>41</td>\n",
       "      <td>0.062</td>\n",
       "      <td>0.001</td>\n",
       "    </tr>\n",
       "    <tr>\n",
       "      <th>240441</th>\n",
       "      <td>1</td>\n",
       "      <td>1</td>\n",
       "      <td>0.000</td>\n",
       "      <td>0.000</td>\n",
       "      <td>0.000</td>\n",
       "      <td>0.000</td>\n",
       "      <td>0.000</td>\n",
       "      <td>0.000</td>\n",
       "      <td>0.000</td>\n",
       "      <td>0.000</td>\n",
       "      <td>...</td>\n",
       "      <td>0.000</td>\n",
       "      <td>0.000</td>\n",
       "      <td>20.000</td>\n",
       "      <td>26.130</td>\n",
       "      <td>1093.200</td>\n",
       "      <td>21.000</td>\n",
       "      <td>30</td>\n",
       "      <td>34</td>\n",
       "      <td>0.002</td>\n",
       "      <td>0.000</td>\n",
       "    </tr>\n",
       "  </tbody>\n",
       "</table>\n",
       "<p>189751 rows × 164 columns</p>\n",
       "</div>"
      ],
      "text/plain": [
       "        intercept  intercept  State_Name_0  State_Name_1  State_Name_2  State_Name_3  State_Name_4  State_Name_5  State_Name_6  State_Name_7  ...  Crop_120  Crop_121     Area  Avg_Temp  Avg_Rain  Production  states_id  crop_id  Area_10000  Prod_1000000\n",
       "0               1          1         1.000         0.000         0.000         0.000         0.000         0.000         0.000         0.000  ...     0.000     0.000 1254.000    24.600  1050.400    2000.000          1        1       0.125         0.002\n",
       "1               1          1         1.000         0.000         0.000         0.000         0.000         0.000         0.000         0.000  ...     0.000     0.000    2.000    24.600  1050.400       1.000          1        2       0.000         0.000\n",
       "2               1          1         1.000         0.000         0.000         0.000         0.000         0.000         0.000         0.000  ...     0.000     0.000  102.000    24.600  1050.400     321.000          1        3       0.010         0.000\n",
       "3               1          1         1.000         0.000         0.000         0.000         0.000         0.000         0.000         0.000  ...     0.000     0.000  176.000    24.600  1050.400     641.000          1        4       0.018         0.001\n",
       "4               1          1         1.000         0.000         0.000         0.000         0.000         0.000         0.000         0.000  ...     0.000     0.000  720.000    24.600  1050.400     165.000          1        5       0.072         0.000\n",
       "...           ...        ...           ...           ...           ...           ...           ...           ...           ...           ...  ...       ...       ...      ...       ...       ...         ...        ...      ...         ...           ...\n",
       "240437          1          1         0.000         0.000         0.000         0.000         0.000         0.000         0.000         0.000  ...     0.000     0.000  546.000    26.130  1093.200     520.000         30       52       0.055         0.001\n",
       "240438          1          1         0.000         0.000         0.000         0.000         0.000         0.000         0.000         0.000  ...     0.000     0.000  914.000    26.130  1093.200     811.000         30       31       0.091         0.001\n",
       "240439          1          1         0.000         0.000         0.000         0.000         0.000         0.000         0.000         0.000  ...     0.000     0.000   12.000    26.130  1093.200      11.000         30       47       0.001         0.000\n",
       "240440          1          1         0.000         0.000         0.000         0.000         0.000         0.000         0.000         0.000  ...     0.000     0.000  625.000    26.130  1093.200     540.000         30       41       0.062         0.001\n",
       "240441          1          1         0.000         0.000         0.000         0.000         0.000         0.000         0.000         0.000  ...     0.000     0.000   20.000    26.130  1093.200      21.000         30       34       0.002         0.000\n",
       "\n",
       "[189751 rows x 164 columns]"
      ]
     },
     "execution_count": 26,
     "metadata": {},
     "output_type": "execute_result"
    }
   ],
   "source": [
    "df_encoded_1"
   ]
  },
  {
   "cell_type": "code",
   "execution_count": 27,
   "metadata": {},
   "outputs": [],
   "source": [
    "a=df_encoded_1.columns"
   ]
  },
  {
   "cell_type": "code",
   "execution_count": 28,
   "metadata": {},
   "outputs": [
    {
     "name": "stdout",
     "output_type": "stream",
     "text": [
      "\"intercept\",\"intercept\",\"State_Name_0\",\"State_Name_1\",\"State_Name_2\",\"State_Name_3\",\"State_Name_4\",\"State_Name_5\",\"State_Name_6\",\"State_Name_7\",\"State_Name_8\",\"State_Name_9\",\"State_Name_10\",\"State_Name_11\",\"State_Name_12\",\"State_Name_13\",\"State_Name_14\",\"State_Name_15\",\"State_Name_16\",\"State_Name_17\",\"State_Name_18\",\"State_Name_19\",\"State_Name_20\",\"State_Name_21\",\"State_Name_22\",\"State_Name_23\",\"State_Name_24\",\"State_Name_25\",\"State_Name_26\",\"State_Name_27\",\"State_Name_28\",\"State_Name_29\",\"State_Name_30\",\"Crop_Year\",\"Crop_0\",\"Crop_1\",\"Crop_2\",\"Crop_3\",\"Crop_4\",\"Crop_5\",\"Crop_6\",\"Crop_7\",\"Crop_8\",\"Crop_9\",\"Crop_10\",\"Crop_11\",\"Crop_12\",\"Crop_13\",\"Crop_14\",\"Crop_15\",\"Crop_16\",\"Crop_17\",\"Crop_18\",\"Crop_19\",\"Crop_20\",\"Crop_21\",\"Crop_22\",\"Crop_23\",\"Crop_24\",\"Crop_25\",\"Crop_26\",\"Crop_27\",\"Crop_28\",\"Crop_29\",\"Crop_30\",\"Crop_31\",\"Crop_32\",\"Crop_33\",\"Crop_34\",\"Crop_35\",\"Crop_36\",\"Crop_37\",\"Crop_38\",\"Crop_39\",\"Crop_40\",\"Crop_41\",\"Crop_42\",\"Crop_43\",\"Crop_44\",\"Crop_45\",\"Crop_46\",\"Crop_47\",\"Crop_48\",\"Crop_49\",\"Crop_50\",\"Crop_51\",\"Crop_52\",\"Crop_53\",\"Crop_54\",\"Crop_55\",\"Crop_56\",\"Crop_57\",\"Crop_58\",\"Crop_59\",\"Crop_60\",\"Crop_61\",\"Crop_62\",\"Crop_63\",\"Crop_64\",\"Crop_65\",\"Crop_66\",\"Crop_67\",\"Crop_68\",\"Crop_69\",\"Crop_70\",\"Crop_71\",\"Crop_72\",\"Crop_73\",\"Crop_74\",\"Crop_75\",\"Crop_76\",\"Crop_77\",\"Crop_78\",\"Crop_79\",\"Crop_80\",\"Crop_81\",\"Crop_82\",\"Crop_83\",\"Crop_84\",\"Crop_85\",\"Crop_86\",\"Crop_87\",\"Crop_88\",\"Crop_89\",\"Crop_90\",\"Crop_91\",\"Crop_92\",\"Crop_93\",\"Crop_94\",\"Crop_95\",\"Crop_96\",\"Crop_97\",\"Crop_98\",\"Crop_99\",\"Crop_100\",\"Crop_101\",\"Crop_102\",\"Crop_103\",\"Crop_104\",\"Crop_105\",\"Crop_106\",\"Crop_107\",\"Crop_108\",\"Crop_109\",\"Crop_110\",\"Crop_111\",\"Crop_112\",\"Crop_113\",\"Crop_114\",\"Crop_115\",\"Crop_116\",\"Crop_117\",\"Crop_118\",\"Crop_119\",\"Crop_120\",\"Crop_121\",\"Area\",\"Avg_Temp\",\"Avg_Rain\",\"Production\",\"states_id\",\"crop_id\",\"Area_10000\",\"Prod_1000000\","
     ]
    }
   ],
   "source": [
    "for i in a:\n",
    "    print('\"{}\"'.format(i),end=',')"
   ]
  },
  {
   "cell_type": "code",
   "execution_count": 29,
   "metadata": {},
   "outputs": [
    {
     "name": "stdout",
     "output_type": "stream",
     "text": [
      "\"Index(['intercept', 'intercept', 'State_Name_0', 'State_Name_1',\n",
      "       'State_Name_2', 'State_Name_3', 'State_Name_4', 'State_Name_5',\n",
      "       'State_Name_6', 'State_Name_7',\n",
      "       ...\n",
      "       'Crop_120', 'Crop_121', 'Area', 'Avg_Temp', 'Avg_Rain', 'Production',\n",
      "       'states_id', 'crop_id', 'Area_10000', 'Prod_1000000'],\n",
      "      dtype='object', length=164)\"\n"
     ]
    }
   ],
   "source": [
    "print('\"{}\"'.format(a))"
   ]
  },
  {
   "cell_type": "code",
   "execution_count": 30,
   "metadata": {},
   "outputs": [],
   "source": [
    "from sklearn.preprocessing import MinMaxScaler"
   ]
  },
  {
   "cell_type": "code",
   "execution_count": 31,
   "metadata": {},
   "outputs": [],
   "source": [
    "scaler=MinMaxScaler()"
   ]
  },
  {
   "cell_type": "code",
   "execution_count": 32,
   "metadata": {},
   "outputs": [
    {
     "data": {
      "text/plain": [
       "0.0"
      ]
     },
     "execution_count": 32,
     "metadata": {},
     "output_type": "execute_result"
    }
   ],
   "source": [
    "df_encoded_1['Production'].min()"
   ]
  },
  {
   "cell_type": "code",
   "execution_count": 33,
   "metadata": {},
   "outputs": [],
   "source": [
    "def normalize(values):\n",
    "    return (values - 0.0)/(16574.0 - 0.0) "
   ]
  },
  {
   "cell_type": "code",
   "execution_count": 34,
   "metadata": {},
   "outputs": [
    {
     "data": {
      "text/plain": [
       "0.04"
      ]
     },
     "execution_count": 34,
     "metadata": {},
     "output_type": "execute_result"
    }
   ],
   "source": [
    "df_encoded_1['Area'].min()"
   ]
  },
  {
   "cell_type": "code",
   "execution_count": 35,
   "metadata": {},
   "outputs": [],
   "source": [
    "def normalize_area(values):\n",
    "    return (values - 0.04)/(10927.0 - 0.04) "
   ]
  },
  {
   "cell_type": "code",
   "execution_count": 36,
   "metadata": {},
   "outputs": [
    {
     "data": {
      "text/plain": [
       "10927.0"
      ]
     },
     "execution_count": 36,
     "metadata": {},
     "output_type": "execute_result"
    }
   ],
   "source": [
    "df_encoded['Area'].max()"
   ]
  },
  {
   "cell_type": "code",
   "execution_count": 37,
   "metadata": {},
   "outputs": [],
   "source": [
    "#df_encoded['Production']=df_encoded['Production'].astype(int) "
   ]
  },
  {
   "cell_type": "code",
   "execution_count": 38,
   "metadata": {},
   "outputs": [
    {
     "data": {
      "text/plain": [
       "<matplotlib.axes._subplots.AxesSubplot at 0x2d50007e580>"
      ]
     },
     "execution_count": 38,
     "metadata": {},
     "output_type": "execute_result"
    },
    {
     "data": {
      "image/png": "[encoded data removed]",
      "text/plain": [
       "<Figure size 432x288 with 1 Axes>"
      ]
     },
     "metadata": {
      "needs_background": "light"
     },
     "output_type": "display_data"
    }
   ],
   "source": [
    "sns.distplot(df_encoded_1['Production'])"
   ]
  },
  {
   "cell_type": "code",
   "execution_count": 39,
   "metadata": {},
   "outputs": [],
   "source": [
    "df_encoded_1['Production'] = df_encoded_1['Production'].apply(normalize)\n",
    "df_encoded_1['Area']=df_encoded_1['Area'].apply(normalize_area)"
   ]
  },
  {
   "cell_type": "code",
   "execution_count": 40,
   "metadata": {},
   "outputs": [
    {
     "data": {
      "text/html": [
       "<div>\n",
       "<style scoped>\n",
       "    .dataframe tbody tr th:only-of-type {\n",
       "        vertical-align: middle;\n",
       "    }\n",
       "\n",
       "    .dataframe tbody tr th {\n",
       "        vertical-align: top;\n",
       "    }\n",
       "\n",
       "    .dataframe thead th {\n",
       "        text-align: right;\n",
       "    }\n",
       "</style>\n",
       "<table border=\"1\" class=\"dataframe\">\n",
       "  <thead>\n",
       "    <tr style=\"text-align: right;\">\n",
       "      <th></th>\n",
       "      <th>Production</th>\n",
       "      <th>Area</th>\n",
       "    </tr>\n",
       "  </thead>\n",
       "  <tbody>\n",
       "    <tr>\n",
       "      <th>count</th>\n",
       "      <td>189751.000</td>\n",
       "      <td>189751.000</td>\n",
       "    </tr>\n",
       "    <tr>\n",
       "      <th>mean</th>\n",
       "      <td>0.089</td>\n",
       "      <td>0.106</td>\n",
       "    </tr>\n",
       "    <tr>\n",
       "      <th>std</th>\n",
       "      <td>0.166</td>\n",
       "      <td>0.184</td>\n",
       "    </tr>\n",
       "    <tr>\n",
       "      <th>min</th>\n",
       "      <td>0.000</td>\n",
       "      <td>0.000</td>\n",
       "    </tr>\n",
       "    <tr>\n",
       "      <th>25%</th>\n",
       "      <td>0.002</td>\n",
       "      <td>0.004</td>\n",
       "    </tr>\n",
       "    <tr>\n",
       "      <th>50%</th>\n",
       "      <td>0.017</td>\n",
       "      <td>0.023</td>\n",
       "    </tr>\n",
       "    <tr>\n",
       "      <th>75%</th>\n",
       "      <td>0.089</td>\n",
       "      <td>0.110</td>\n",
       "    </tr>\n",
       "    <tr>\n",
       "      <th>max</th>\n",
       "      <td>1.000</td>\n",
       "      <td>1.000</td>\n",
       "    </tr>\n",
       "  </tbody>\n",
       "</table>\n",
       "</div>"
      ],
      "text/plain": [
       "       Production       Area\n",
       "count  189751.000 189751.000\n",
       "mean        0.089      0.106\n",
       "std         0.166      0.184\n",
       "min         0.000      0.000\n",
       "25%         0.002      0.004\n",
       "50%         0.017      0.023\n",
       "75%         0.089      0.110\n",
       "max         1.000      1.000"
      ]
     },
     "execution_count": 40,
     "metadata": {},
     "output_type": "execute_result"
    }
   ],
   "source": [
    "df_encoded_1[['Production','Area']].describe()"
   ]
  },
  {
   "cell_type": "code",
   "execution_count": 41,
   "metadata": {},
   "outputs": [
    {
     "data": {
      "text/plain": [
       "<matplotlib.axes._subplots.AxesSubplot at 0x2d50077cdc0>"
      ]
     },
     "execution_count": 41,
     "metadata": {},
     "output_type": "execute_result"
    },
    {
     "data": {
      "image/png": "[encoded data removed]",
      "text/plain": [
       "<Figure size 432x288 with 1 Axes>"
      ]
     },
     "metadata": {
      "needs_background": "light"
     },
     "output_type": "display_data"
    }
   ],
   "source": [
    "sns.distplot(df_encoded_1['Production'])"
   ]
  },
  {
   "cell_type": "markdown",
   "metadata": {},
   "source": [
    "### SGD MODEL"
   ]
  },
  {
   "cell_type": "code",
   "execution_count": 42,
   "metadata": {},
   "outputs": [],
   "source": [
    "from sklearn import linear_model"
   ]
  },
  {
   "cell_type": "code",
   "execution_count": 43,
   "metadata": {},
   "outputs": [],
   "source": [
    "from sklearn.model_selection import train_test_split "
   ]
  },
  {
   "cell_type": "code",
   "execution_count": 44,
   "metadata": {},
   "outputs": [],
   "source": [
    "X=df_encoded_1[[ \"State_Name_0\",\"State_Name_1\",\"State_Name_2\",\"State_Name_3\",\"State_Name_4\",\"State_Name_5\",\n",
    "              \"State_Name_6\",\"State_Name_7\",\"State_Name_8\",\"State_Name_9\",\"State_Name_10\",\"State_Name_11\",\n",
    "              \"State_Name_12\",\"State_Name_13\",\"State_Name_14\",\"State_Name_15\",\"State_Name_16\",\"State_Name_17\",\n",
    "              \"State_Name_18\",\"State_Name_19\",\"State_Name_20\",\"State_Name_21\",\"State_Name_22\",\"State_Name_23\",\n",
    "              \"State_Name_24\",\"State_Name_25\",\"State_Name_26\",\"State_Name_27\",\"State_Name_28\",\"State_Name_29\",\"State_Name_30\",\n",
    "              \"Crop_0\",\"Crop_1\",\"Crop_2\",\"Crop_3\",\"Crop_4\",\"Crop_5\",\"Crop_6\",\"Crop_7\",\"Crop_8\",\n",
    "              \"Crop_9\",\"Crop_10\",\"Crop_11\",\"Crop_12\",\"Crop_13\",\"Crop_14\",\"Crop_15\",\"Crop_16\",\n",
    "              \"Crop_17\",\"Crop_18\",\"Crop_19\",\"Crop_20\",\"Crop_21\",\"Crop_22\",\"Crop_23\",\"Crop_24\",\n",
    "              \"Crop_25\",\"Crop_26\",\"Crop_27\",\"Crop_28\",\"Crop_29\",\"Crop_30\",\"Crop_31\",\"Crop_32\",\n",
    "              \"Crop_33\",\"Crop_34\",\"Crop_35\",\"Crop_36\",\"Crop_37\",\"Crop_38\",\"Crop_39\",\"Crop_40\",\n",
    "              \"Crop_41\",\"Crop_42\",\"Crop_43\",\"Crop_44\",\"Crop_45\",\"Crop_46\",\"Crop_47\",\"Crop_48\",\n",
    "              \"Crop_49\",\"Crop_50\",\"Crop_51\",\"Crop_52\",\"Crop_53\",\"Crop_54\",\"Crop_55\",\"Crop_56\",\n",
    "              \"Crop_57\",\"Crop_58\",\"Crop_59\",\"Crop_60\",\"Crop_61\",\"Crop_62\",\"Crop_63\",\"Crop_64\",\n",
    "              \"Crop_65\",\"Crop_66\",\"Crop_67\",\"Crop_68\",\"Crop_69\",\"Crop_70\",\"Crop_71\",\"Crop_72\",\n",
    "              \"Crop_73\",\"Crop_74\",\"Crop_75\",\"Crop_76\",\"Crop_77\",\"Crop_78\",\"Crop_79\",\"Crop_80\",\n",
    "              \"Crop_81\",\"Crop_82\",\"Crop_83\",\"Crop_84\",\"Crop_85\",\"Crop_86\",\"Crop_87\",\"Crop_88\",\n",
    "              \"Crop_89\",\"Crop_90\",\"Crop_91\",\"Crop_92\",\"Crop_93\",\"Crop_94\",\"Crop_95\",\"Crop_96\",\n",
    "              \"Crop_97\",\"Crop_98\",\"Crop_99\",\"Crop_100\",\"Crop_101\",\"Crop_102\",\"Crop_103\",\"Crop_104\",\n",
    "              \"Crop_105\",\"Crop_106\",\"Crop_107\",\"Crop_108\",\"Crop_109\",\"Crop_110\",\"Crop_111\",\"Crop_112\",\n",
    "              \"Crop_113\",\"Crop_114\",'Crop_Year','Avg_Temp', 'Avg_Rain', 'Area',]].values\n",
    "\n",
    "\n",
    "df_encoded.Prod_1000000 = df_encoded.Prod_1000000.astype(int) \n",
    "\n",
    "\n",
    "y=df_encoded_1[['Production']].values"
   ]
  },
  {
   "cell_type": "code",
   "execution_count": 45,
   "metadata": {},
   "outputs": [],
   "source": [
    "X_train,X_test,y_train,y_test=train_test_split(X,y,test_size = 0.30)"
   ]
  },
  {
   "cell_type": "code",
   "execution_count": 46,
   "metadata": {},
   "outputs": [],
   "source": [
    "clf_sgd=linear_model.SGDRegressor(loss='squared_loss', penalty=None,  random_state=42)"
   ]
  },
  {
   "cell_type": "code",
   "execution_count": 47,
   "metadata": {},
   "outputs": [
    {
     "data": {
      "text/plain": [
       "SGDRegressor(penalty=None, random_state=42)"
      ]
     },
     "execution_count": 47,
     "metadata": {},
     "output_type": "execute_result"
    }
   ],
   "source": [
    "clf_sgd.fit(X_train,y_train.ravel())"
   ]
  },
  {
   "cell_type": "code",
   "execution_count": 48,
   "metadata": {},
   "outputs": [],
   "source": [
    "y_pred=clf_sgd.predict(X_test)"
   ]
  },
  {
   "cell_type": "code",
   "execution_count": 49,
   "metadata": {},
   "outputs": [
    {
     "data": {
      "text/plain": [
       "array([3.81986112e+14, 3.82374520e+14, 3.53638587e+14, ...,\n",
       "       3.81149339e+14, 3.82471809e+14, 3.65932533e+14])"
      ]
     },
     "execution_count": 49,
     "metadata": {},
     "output_type": "execute_result"
    }
   ],
   "source": [
    "y_pred"
   ]
  },
  {
   "cell_type": "code",
   "execution_count": 50,
   "metadata": {},
   "outputs": [],
   "source": [
    "y_pred_test=y_pred\n"
   ]
  },
  {
   "cell_type": "code",
   "execution_count": 51,
   "metadata": {},
   "outputs": [],
   "source": [
    "y_pred_test=y_pred_test/100000000000000000"
   ]
  },
  {
   "cell_type": "code",
   "execution_count": 52,
   "metadata": {},
   "outputs": [
    {
     "name": "stdout",
     "output_type": "stream",
     "text": [
      "r2 score for model is -5.0244738955405834e+30\n"
     ]
    }
   ],
   "source": [
    "from sklearn.metrics import r2_score\n",
    "r2 = r2_score(y_test,y_pred) \n",
    "print('r2 score for model is', r2)"
   ]
  },
  {
   "cell_type": "code",
   "execution_count": 53,
   "metadata": {},
   "outputs": [
    {
     "data": {
      "text/plain": [
       "<matplotlib.axes._subplots.AxesSubplot at 0x2d5003a1910>"
      ]
     },
     "execution_count": 53,
     "metadata": {},
     "output_type": "execute_result"
    },
    {
     "data": {
      "image/png": "[encoded data removed]",
      "text/plain": [
       "<Figure size 1296x504 with 1 Axes>"
      ]
     },
     "metadata": {
      "needs_background": "light"
     },
     "output_type": "display_data"
    }
   ],
   "source": [
    "ax = plt.gca()\n",
    "#plt.plot(y_test,ax=ax)\n",
    "pd.DataFrame(y_test).plot(kind='line',color='red',ax=ax,alpha=0.5,figsize=(18,7))\n",
    "pd.DataFrame(y_pred_test).plot(kind='line',color='Blue',ax=ax,alpha=0.2,figsize=(18,7))\n"
   ]
  },
  {
   "cell_type": "code",
   "execution_count": 54,
   "metadata": {},
   "outputs": [
    {
     "data": {
      "text/plain": [
       "<matplotlib.collections.PathCollection at 0x2d5009b2ee0>"
      ]
     },
     "execution_count": 54,
     "metadata": {},
     "output_type": "execute_result"
    },
    {
     "data": {
      "image/png": "[encoded data removed]",
      "text/plain": [
       "<Figure size 432x288 with 1 Axes>"
      ]
     },
     "metadata": {
      "needs_background": "light"
     },
     "output_type": "display_data"
    }
   ],
   "source": [
    "plt.scatter(y_test,y_pred)"
   ]
  },
  {
   "cell_type": "markdown",
   "metadata": {},
   "source": [
    "#### Ridge Regression"
   ]
  },
  {
   "cell_type": "code",
   "execution_count": 55,
   "metadata": {},
   "outputs": [],
   "source": [
    "from sklearn.linear_model import Ridge"
   ]
  },
  {
   "cell_type": "code",
   "execution_count": 56,
   "metadata": {},
   "outputs": [],
   "source": [
    "rdg = Ridge(alpha = 0.1,fit_intercept=True,normalize=True)"
   ]
  },
  {
   "cell_type": "code",
   "execution_count": 57,
   "metadata": {},
   "outputs": [
    {
     "data": {
      "text/plain": [
       "Ridge(alpha=0.1, normalize=True)"
      ]
     },
     "execution_count": 57,
     "metadata": {},
     "output_type": "execute_result"
    }
   ],
   "source": [
    "rdg.fit(X,y)"
   ]
  },
  {
   "cell_type": "code",
   "execution_count": 58,
   "metadata": {},
   "outputs": [],
   "source": [
    "import pickle\n",
    "pickle.dump(rdg, open('rdg_model.pkl', 'wb'))"
   ]
  },
  {
   "cell_type": "code",
   "execution_count": 59,
   "metadata": {},
   "outputs": [
    {
     "data": {
      "text/plain": [
       "0.542820909187302"
      ]
     },
     "execution_count": 59,
     "metadata": {},
     "output_type": "execute_result"
    }
   ],
   "source": [
    "rdg.score(X,y)"
   ]
  },
  {
   "cell_type": "code",
   "execution_count": 60,
   "metadata": {},
   "outputs": [],
   "source": [
    "y_pred=rdg.predict(X_test)"
   ]
  },
  {
   "cell_type": "code",
   "execution_count": 61,
   "metadata": {},
   "outputs": [
    {
     "data": {
      "text/plain": [
       "array([[ 0.1021564 ],\n",
       "       [ 0.07556768],\n",
       "       [ 0.06833553],\n",
       "       ...,\n",
       "       [-0.01053315],\n",
       "       [-0.00425394],\n",
       "       [-0.02244594]])"
      ]
     },
     "execution_count": 61,
     "metadata": {},
     "output_type": "execute_result"
    }
   ],
   "source": [
    "y_pred"
   ]
  },
  {
   "cell_type": "markdown",
   "metadata": {},
   "source": [
    "u_input=X[1]"
   ]
  },
  {
   "cell_type": "code",
   "execution_count": 74,
   "metadata": {},
   "outputs": [],
   "source": [
    "data={\"State_Name_0\":0,\n",
    "      \"State_Name_1\":0,\"State_Name_2\":1,\"State_Name_3\":0,\"State_Name_4\":0,\"State_Name_5\":0,\"State_Name_6\":0,\"State_Name_7\":0,\"State_Name_8\":0,\n",
    "      \"State_Name_9\":0,\"State_Name_10\":0,\"State_Name_11\":0,\"State_Name_12\":0,\"State_Name_13\":0,\"State_Name_14\":0,\"State_Name_15\":0,\n",
    "      \"State_Name_16\":0,\"State_Name_17\":0,\"State_Name_18\":0,\"State_Name_19\":0,\"State_Name_20\":0,\"State_Name_21\":0,\"State_Name_22\":0,\"State_Name_23\":0,\n",
    "      \"State_Name_24\":0,\"State_Name_25\":0,\"State_Name_26\":0,\"State_Name_27\":0,\"State_Name_28\":0,\"State_Name_29\":0,\"State_Name_30\":0,\n",
    "      \"Crop_0\":0,\"Crop_1\":0,\"Crop_2\":0,\"Crop_3\":0,\"Crop_4\":0,\"Crop_5\":0,\"Crop_6\":0,\"Crop_7\":0,\"Crop_8\":0,\n",
    "      \"Crop_9\":0,\"Crop_10\":0,\"Crop_11\":1,\"Crop_12\":0,\"Crop_13\":0,\"Crop_14\":0,\"Crop_15\":0,\"Crop_16\":0,\n",
    "      \"Crop_17\":0,\"Crop_18\":0,\"Crop_19\":0,\"Crop_20\":0,\"Crop_21\":0,\"Crop_22\":0,\"Crop_23\":0,\"Crop_24\":0,\n",
    "      \"Crop_25\":0,\"Crop_26\":0,\"Crop_27\":0,\"Crop_28\":0,\"Crop_29\":0,\"Crop_30\":0,\"Crop_31\":0,\"Crop_32\":0,\n",
    "      \"Crop_33\":0,\"Crop_34\":0,\"Crop_35\":0,\"Crop_36\":0,\"Crop_37\":0,\"Crop_38\":0,\"Crop_39\":0,\"Crop_40\":0,\n",
    "      \"Crop_41\":0,\"Crop_42\":0,\"Crop_43\":0,\"Crop_44\":0,\"Crop_45\":0,\"Crop_46\":0,\"Crop_47\":0,\"Crop_48\":0,\n",
    "      \"Crop_49\":0,\"Crop_50\":0,\"Crop_51\":0,\"Crop_52\":0,\"Crop_53\":0,\"Crop_54\":0,\"Crop_55\":0,\"Crop_56\":0,\n",
    "      \"Crop_57\":0,\"Crop_58\":0,\"Crop_59\":0,\"Crop_60\":0,\"Crop_61\":0,\"Crop_62\":0,\"Crop_63\":0,\"Crop_64\":0,\n",
    "      \"Crop_65\":0,\"Crop_66\":0,\"Crop_67\":0,\"Crop_68\":0,\"Crop_69\":0,\"Crop_70\":0,\"Crop_71\":0,\"Crop_72\":0,\n",
    "      \"Crop_73\":0,\"Crop_74\":0,\"Crop_75\":0,\"Crop_76\":0,\"Crop_77\":0,\"Crop_78\":0,\"Crop_79\":0,\"Crop_80\":0,\n",
    "      \"Crop_81\":0,\"Crop_82\":0,\"Crop_83\":0,\"Crop_84\":0,\"Crop_85\":0,\"Crop_86\":0,\"Crop_87\":0,\"Crop_88\":0,\n",
    "      \"Crop_89\":0,\"Crop_90\":0,\"Crop_91\":0,\"Crop_92\":0,\"Crop_93\":0,\"Crop_94\":0,\"Crop_95\":0,\"Crop_96\":0,\n",
    "      \"Crop_97\":0,\"Crop_98\":0,\"Crop_99\":0,\"Crop_100\":0,\"Crop_101\":0,\"Crop_102\":0,\"Crop_103\":0,\"Crop_104\":0,\n",
    "      \"Crop_105\":0,\"Crop_106\":0,\"Crop_107\":0,\"Crop_108\":0,\"Crop_109\":0,\"Crop_110\":0,\"Crop_111\":0,\"Crop_112\":0,\n",
    "      \"Crop_113\":0,\"Crop_114\":0,'Crop_Year':2009,'Avg_Temp':24.0, 'Avg_Rain':1098, 'Area':4932}\n",
    "\n",
    "features=pd.DataFrame(data,index=[0])"
   ]
  },
  {
   "cell_type": "markdown",
   "metadata": {},
   "source": [
    "state_code={\"State_Name_0\":1,\"State_Name_1\":2,\"State_Name_2\":3,\"State_Name_3\":4,\"State_Name_4\":5,\"State_Name_5\":6,\"State_Name_6\":7,\n",
    "\"State_Name_7\":8,\"State_Name_8\":9,\"State_Name_9\":10,\"State_Name_10\":11,\"State_Name_11\":12,\"State_Name_12\":13,\"State_Name_13\":14,\n",
    "\"State_Name_14\":15,\"State_Name_15\":16,\"State_Name_16\":17,\"State_Name_17\":18,\"State_Name_18\":19,\"State_Name_19\":20,\"State_Name_20\":21,\n",
    "\"State_Name_21\":22,\"State_Name_22\":23,\"State_Name_23\":24,\"State_Name_24\":25,\"State_Name_25\":26,\"State_Name_26\":27,\"State_Name_27\":28,\n",
    "\"State_Name_28\":29,\"State_Name_29\":30,\"State_Name_30\":31}"
   ]
  },
  {
   "cell_type": "markdown",
   "metadata": {},
   "source": [
    "crop_code={\"Crop_0\":1,\"Crop_1\":2,\"Crop_2\":3,\"Crop_3\":4,\"Crop_4\":5,\"Crop_5\":6,\"Crop_6\":7,\"Crop_7\":8,\"Crop_8\":9,\n",
    "      \"Crop_9\":10,\"Crop_10\":11,\"Crop_11\":12,\"Crop_12\":13,\"Crop_13\":14,\"Crop_14\":15,\"Crop_15\":16,\"Crop_16\":17,\n",
    "      \"Crop_17\":18,\"Crop_18\":19,\"Crop_19\":20,\"Crop_20\":21,\"Crop_21\":22,\"Crop_22\":23,\"Crop_23\":24,\"Crop_24\":25,\n",
    "      \"Crop_25\":26,\"Crop_26\":27,\"Crop_27\":28,\"Crop_28\":29,\"Crop_29\":30,\"Crop_30\":31,\"Crop_31\":32,\"Crop_32\":33,\n",
    "      \"Crop_33\":34,\"Crop_34\":35,\"Crop_35\":36,\"Crop_36\":37,\"Crop_37\":38,\"Crop_38\":39,\"Crop_39\":40,\"Crop_40\":41,\n",
    "      \"Crop_41\":42,\"Crop_42\":43,\"Crop_43\":44,\"Crop_44\":45,\"Crop_45\":46,\"Crop_46\":47,\"Crop_47\":48,\"Crop_48\":49,\n",
    "      \"Crop_49\":50,\"Crop_50\":51,\"Crop_51\":52,\"Crop_52\":53,\"Crop_53\":54,\"Crop_54\":55,\"Crop_55\":56,\"Crop_56\":57,\n",
    "      \"Crop_57\":58,\"Crop_58\":59,\"Crop_59\":60,\"Crop_60\":61,\"Crop_61\":62,\"Crop_62\":63,\"Crop_63\":64,\"Crop_64\":65,\n",
    "      \"Crop_65\":66,\"Crop_66\":67,\"Crop_67\":68,\"Crop_68\":69,\"Crop_69\":70,\"Crop_70\":71,\"Crop_71\":72,\"Crop_72\":73,\n",
    "      \"Crop_73\":74,\"Crop_74\":75,\"Crop_75\":76,\"Crop_76\":77,\"Crop_77\":78,\"Crop_78\":79,\"Crop_79\":80,\"Crop_80\":81,\n",
    "      \"Crop_81\":82,\"Crop_82\":83,\"Crop_83\":84,\"Crop_84\":85,\"Crop_85\":86,\"Crop_86\":87,\"Crop_87\":88,\"Crop_88\":89,\n",
    "      \"Crop_89\":90,\"Crop_90\":91,\"Crop_91\":92,\"Crop_92\":93,\"Crop_93\":94,\"Crop_94\":95,\"Crop_95\":96,\"Crop_96\":97,\n",
    "      \"Crop_97\":98,\"Crop_98\":99,\"Crop_99\":100,\"Crop_100\":101,\"Crop_101\":102,\"Crop_102\":103,\"Crop_103\":104,\"Crop_104\":105,\n",
    "      \"Crop_105\":106,\"Crop_106\":107,\"Crop_107\":108,\"Crop_108\":109,\"Crop_109\":110,\"Crop_110\":111,\"Crop_111\":112,\"Crop_112\":113,\n",
    "      \"Crop_113\":114,\"Crop_114\":115,'Crop_115':116,'Crop_116':117}"
   ]
  },
  {
   "cell_type": "markdown",
   "metadata": {},
   "source": [
    "features_en=encoder.fit_transform(features)"
   ]
  },
  {
   "cell_type": "markdown",
   "metadata": {},
   "source": [
    "features_en=encoder_state.fit_transform(features)"
   ]
  },
  {
   "cell_type": "markdown",
   "metadata": {},
   "source": [
    "features\n"
   ]
  },
  {
   "cell_type": "code",
   "execution_count": null,
   "metadata": {},
   "outputs": [],
   "source": []
  },
  {
   "cell_type": "code",
   "execution_count": null,
   "metadata": {},
   "outputs": [],
   "source": []
  },
  {
   "cell_type": "markdown",
   "metadata": {},
   "source": [
    "u_pred=rdg.predict(u_input.reshape(1,-1))"
   ]
  },
  {
   "cell_type": "markdown",
   "metadata": {},
   "source": [
    "u_pred"
   ]
  },
  {
   "cell_type": "markdown",
   "metadata": {},
   "source": [
    "y_"
   ]
  },
  {
   "cell_type": "code",
   "execution_count": 62,
   "metadata": {},
   "outputs": [
    {
     "name": "stdout",
     "output_type": "stream",
     "text": [
      "r2 score for model is 0.5443034515678657\n"
     ]
    }
   ],
   "source": [
    "from sklearn.metrics import r2_score\n",
    "r2 = r2_score(y_test,y_pred) \n",
    "print('r2 score for model is', r2)"
   ]
  },
  {
   "cell_type": "code",
   "execution_count": 63,
   "metadata": {},
   "outputs": [
    {
     "data": {
      "text/plain": [
       "<matplotlib.collections.PathCollection at 0x2d50c25e2e0>"
      ]
     },
     "execution_count": 63,
     "metadata": {},
     "output_type": "execute_result"
    },
    {
     "data": {
      "image/png": "[encoded data removed]",
      "text/plain": [
       "<Figure size 432x288 with 1 Axes>"
      ]
     },
     "metadata": {
      "needs_background": "light"
     },
     "output_type": "display_data"
    }
   ],
   "source": [
    "plt.scatter(y_test,y_pred)"
   ]
  },
  {
   "cell_type": "code",
   "execution_count": 64,
   "metadata": {},
   "outputs": [
    {
     "data": {
      "text/plain": [
       "<matplotlib.axes._subplots.AxesSubplot at 0x2d50c273550>"
      ]
     },
     "execution_count": 64,
     "metadata": {},
     "output_type": "execute_result"
    },
    {
     "data": {
      "image/png": "[encoded data removed]",
      "text/plain": [
       "<Figure size 432x288 with 1 Axes>"
      ]
     },
     "metadata": {
      "needs_background": "light"
     },
     "output_type": "display_data"
    }
   ],
   "source": [
    "sns.distplot(y_test-y_pred)"
   ]
  },
  {
   "cell_type": "code",
   "execution_count": 65,
   "metadata": {},
   "outputs": [],
   "source": [
    "from sklearn.model_selection import cross_val_score\n",
    "from sklearn.model_selection import KFold\n",
    "def train_and_evaluate(clf, X_train, y_train):\n",
    "    \n",
    "    clf.fit(X_train, y_train)\n",
    "    \n",
    "    print (\"Coefficient of determination on training set:\",clf.score(X_train, y_train))\n",
    "    \n",
    "    # create a k-fold cross validation iterator of k=5 folds\n",
    "    cv = KFold(n_splits=10, random_state=1, shuffle=True)\n",
    "    scores = cross_val_score(clf, X_train, y_train,cv=cv, n_jobs=-1)\n",
    "    print('Cross Validation Score')\n",
    "    print(\"%0.2f accuracy with a standard deviation of %0.2f\" % (scores.mean(), scores.std()))"
   ]
  },
  {
   "cell_type": "code",
   "execution_count": 149,
   "metadata": {},
   "outputs": [
    {
     "name": "stdout",
     "output_type": "stream",
     "text": [
      "Coefficient of determination on training set: 0.542820909187302\n",
      "Cross Validation Score\n",
      "0.54 accuracy with a standard deviation of 0.01\n"
     ]
    }
   ],
   "source": [
    "train_and_evaluate(rdg, X, y)"
   ]
  },
  {
   "cell_type": "markdown",
   "metadata": {},
   "source": [
    "### XGBoost"
   ]
  },
  {
   "cell_type": "code",
   "execution_count": 66,
   "metadata": {},
   "outputs": [],
   "source": [
    "import xgboost as xgb\n",
    "from xgboost import XGBRegressor"
   ]
  },
  {
   "cell_type": "code",
   "execution_count": 67,
   "metadata": {},
   "outputs": [],
   "source": [
    "model=xgb.XGBRegressor()"
   ]
  },
  {
   "cell_type": "code",
   "execution_count": 68,
   "metadata": {},
   "outputs": [
    {
     "data": {
      "text/plain": [
       "XGBRegressor(base_score=0.5, booster='gbtree', colsample_bylevel=1,\n",
       "             colsample_bynode=1, colsample_bytree=1, gamma=0, gpu_id=-1,\n",
       "             importance_type='gain', interaction_constraints='',\n",
       "             learning_rate=0.300000012, max_delta_step=0, max_depth=6,\n",
       "             min_child_weight=1, missing=nan, monotone_constraints='()',\n",
       "             n_estimators=100, n_jobs=4, num_parallel_tree=1, random_state=0,\n",
       "             reg_alpha=0, reg_lambda=1, scale_pos_weight=1, subsample=1,\n",
       "             tree_method='exact', validate_parameters=1, verbosity=None)"
      ]
     },
     "execution_count": 68,
     "metadata": {},
     "output_type": "execute_result"
    }
   ],
   "source": [
    "model.fit(X,y)"
   ]
  },
  {
   "cell_type": "code",
   "execution_count": 69,
   "metadata": {},
   "outputs": [],
   "source": [
    "import pickle\n",
    "pickle.dump(model, open('xgb_model.pkl', 'wb'))"
   ]
  },
  {
   "cell_type": "code",
   "execution_count": 70,
   "metadata": {},
   "outputs": [],
   "source": [
    "pred_xgb=model.predict(X_test)"
   ]
  },
  {
   "cell_type": "code",
   "execution_count": 76,
   "metadata": {},
   "outputs": [
    {
     "ename": "AttributeError",
     "evalue": "'DataFrame' object has no attribute 'reshape'",
     "output_type": "error",
     "traceback": [
      "\u001b[1;31m---------------------------------------------------------------------------\u001b[0m",
      "\u001b[1;31mAttributeError\u001b[0m                            Traceback (most recent call last)",
      "\u001b[1;32m<ipython-input-76-b25a3ff231fd>\u001b[0m in \u001b[0;36m<module>\u001b[1;34m\u001b[0m\n\u001b[1;32m----> 1\u001b[1;33m \u001b[0mu_pred\u001b[0m\u001b[1;33m=\u001b[0m\u001b[0mmodel\u001b[0m\u001b[1;33m.\u001b[0m\u001b[0mpredict\u001b[0m\u001b[1;33m(\u001b[0m\u001b[0mfeatures\u001b[0m\u001b[1;33m.\u001b[0m\u001b[0mreshape\u001b[0m\u001b[1;33m(\u001b[0m\u001b[1;36m1\u001b[0m\u001b[1;33m,\u001b[0m\u001b[1;33m-\u001b[0m\u001b[1;36m1\u001b[0m\u001b[1;33m)\u001b[0m\u001b[1;33m)\u001b[0m\u001b[1;33m\u001b[0m\u001b[1;33m\u001b[0m\u001b[0m\n\u001b[0m",
      "\u001b[1;32mC:\\ProgramData\\Anaconda3\\lib\\site-packages\\pandas\\core\\generic.py\u001b[0m in \u001b[0;36m__getattr__\u001b[1;34m(self, name)\u001b[0m\n\u001b[0;32m   5272\u001b[0m             \u001b[1;32mif\u001b[0m \u001b[0mself\u001b[0m\u001b[1;33m.\u001b[0m\u001b[0m_info_axis\u001b[0m\u001b[1;33m.\u001b[0m\u001b[0m_can_hold_identifiers_and_holds_name\u001b[0m\u001b[1;33m(\u001b[0m\u001b[0mname\u001b[0m\u001b[1;33m)\u001b[0m\u001b[1;33m:\u001b[0m\u001b[1;33m\u001b[0m\u001b[1;33m\u001b[0m\u001b[0m\n\u001b[0;32m   5273\u001b[0m                 \u001b[1;32mreturn\u001b[0m \u001b[0mself\u001b[0m\u001b[1;33m[\u001b[0m\u001b[0mname\u001b[0m\u001b[1;33m]\u001b[0m\u001b[1;33m\u001b[0m\u001b[1;33m\u001b[0m\u001b[0m\n\u001b[1;32m-> 5274\u001b[1;33m             \u001b[1;32mreturn\u001b[0m \u001b[0mobject\u001b[0m\u001b[1;33m.\u001b[0m\u001b[0m__getattribute__\u001b[0m\u001b[1;33m(\u001b[0m\u001b[0mself\u001b[0m\u001b[1;33m,\u001b[0m \u001b[0mname\u001b[0m\u001b[1;33m)\u001b[0m\u001b[1;33m\u001b[0m\u001b[1;33m\u001b[0m\u001b[0m\n\u001b[0m\u001b[0;32m   5275\u001b[0m \u001b[1;33m\u001b[0m\u001b[0m\n\u001b[0;32m   5276\u001b[0m     \u001b[1;32mdef\u001b[0m \u001b[0m__setattr__\u001b[0m\u001b[1;33m(\u001b[0m\u001b[0mself\u001b[0m\u001b[1;33m,\u001b[0m \u001b[0mname\u001b[0m\u001b[1;33m:\u001b[0m \u001b[0mstr\u001b[0m\u001b[1;33m,\u001b[0m \u001b[0mvalue\u001b[0m\u001b[1;33m)\u001b[0m \u001b[1;33m->\u001b[0m \u001b[1;32mNone\u001b[0m\u001b[1;33m:\u001b[0m\u001b[1;33m\u001b[0m\u001b[1;33m\u001b[0m\u001b[0m\n",
      "\u001b[1;31mAttributeError\u001b[0m: 'DataFrame' object has no attribute 'reshape'"
     ]
    }
   ],
   "source": [
    "u_pred=model.predict(features.reshape(1,-1))"
   ]
  },
  {
   "cell_type": "code",
   "execution_count": 71,
   "metadata": {},
   "outputs": [
    {
     "name": "stdout",
     "output_type": "stream",
     "text": [
      "r2 score for model is 0.8654006392726872\n"
     ]
    }
   ],
   "source": [
    "from sklearn.metrics import r2_score\n",
    "r2 = r2_score(y_test,pred_xgb) \n",
    "print('r2 score for model is', r2)"
   ]
  },
  {
   "cell_type": "code",
   "execution_count": 72,
   "metadata": {},
   "outputs": [
    {
     "data": {
      "text/plain": [
       "<matplotlib.collections.PathCollection at 0x2d50c529c10>"
      ]
     },
     "execution_count": 72,
     "metadata": {},
     "output_type": "execute_result"
    },
    {
     "data": {
      "image/png": "[encoded data removed]",
      "text/plain": [
       "<Figure size 432x288 with 1 Axes>"
      ]
     },
     "metadata": {
      "needs_background": "light"
     },
     "output_type": "display_data"
    }
   ],
   "source": [
    "plt.scatter(y_test,pred_xgb)"
   ]
  },
  {
   "cell_type": "code",
   "execution_count": 73,
   "metadata": {},
   "outputs": [],
   "source": [
    "#sns.distplot(y_test-pred_xgb)"
   ]
  },
  {
   "cell_type": "code",
   "execution_count": 158,
   "metadata": {},
   "outputs": [
    {
     "name": "stdout",
     "output_type": "stream",
     "text": [
      "Coefficient of determination on training set: 0.8665883575153579\n",
      "Cross Validation Score\n",
      "0.84 accuracy with a standard deviation of 0.01\n"
     ]
    }
   ],
   "source": [
    "train_and_evaluate(model,X_train,y_train)"
   ]
  },
  {
   "cell_type": "markdown",
   "metadata": {},
   "source": [
    "### Gradient Boosting"
   ]
  },
  {
   "cell_type": "code",
   "execution_count": 159,
   "metadata": {},
   "outputs": [],
   "source": [
    "#from sklearn.ensemble import GradientBoostingRegressor"
   ]
  },
  {
   "cell_type": "code",
   "execution_count": 160,
   "metadata": {},
   "outputs": [],
   "source": [
    "#gbr_params = {'n_estimators': 1000,\n",
    " #         'max_depth': 3,\n",
    "  #        'min_samples_split': 5,\n",
    "   #       'learning_rate': 0.01,\n",
    "    #      'loss': 'ls'}"
   ]
  },
  {
   "cell_type": "code",
   "execution_count": 161,
   "metadata": {},
   "outputs": [],
   "source": [
    "#gbr.fit(X_train, y_train.ravel())"
   ]
  },
  {
   "cell_type": "code",
   "execution_count": null,
   "metadata": {},
   "outputs": [],
   "source": []
  },
  {
   "cell_type": "code",
   "execution_count": null,
   "metadata": {},
   "outputs": [],
   "source": []
  }
 ],
 "metadata": {
  "kernelspec": {
   "display_name": "Python 3",
   "language": "python",
   "name": "python3"
  },
  "language_info": {
   "codemirror_mode": {
    "name": "ipython",
    "version": 3
   },
   "file_extension": ".py",
   "mimetype": "text/x-python",
   "name": "python",
   "nbconvert_exporter": "python",
   "pygments_lexer": "ipython3",
   "version": "3.8.3"
  }
 },
 "nbformat": 4,
 "nbformat_minor": 4
}

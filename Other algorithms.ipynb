{
 "cells": [
  {
   "cell_type": "code",
   "execution_count": 1,
   "metadata": {},
   "outputs": [],
   "source": [
    "import numpy as np\n",
    "import pandas as pd\n",
    "import matplotlib.pyplot as plt \n",
    "import seaborn as sns\n",
    "\n",
    "pd.set_option('display.float_format', lambda x: '%.3f' % x)\n",
    "\n",
    "pd.set_option(\"display.precision\", 10)\n",
    "\n",
    "# Don't wrap repr(DataFrame) across additional lines\n",
    "pd.set_option(\"display.expand_frame_repr\", False)\n",
    "\n",
    "# Set max rows displayed in output to 25\n",
    "pd.set_option(\"display.max_rows\", 25)\n"
   ]
  },
  {
   "cell_type": "code",
   "execution_count": 2,
   "metadata": {},
   "outputs": [],
   "source": [
    "df=pd.read_csv('Dataset/final_data.csv')"
   ]
  },
  {
   "cell_type": "code",
   "execution_count": 3,
   "metadata": {},
   "outputs": [
    {
     "data": {
      "text/plain": [
       "State_Name       0\n",
       "Crop_Year        0\n",
       "Crop             0\n",
       "Area             0\n",
       "Avg_Temp         0\n",
       "Avg_Rain         0\n",
       "Production    3672\n",
       "states_id        0\n",
       "crop_id          0\n",
       "dtype: int64"
      ]
     },
     "execution_count": 3,
     "metadata": {},
     "output_type": "execute_result"
    }
   ],
   "source": [
    "df.isnull().sum()"
   ]
  },
  {
   "cell_type": "code",
   "execution_count": 4,
   "metadata": {},
   "outputs": [],
   "source": [
    "df['Production'].replace(np.nan,0, inplace=True)"
   ]
  },
  {
   "cell_type": "code",
   "execution_count": 5,
   "metadata": {},
   "outputs": [
    {
     "data": {
      "text/plain": [
       "State_Name    0\n",
       "Crop_Year     0\n",
       "Crop          0\n",
       "Area          0\n",
       "Avg_Temp      0\n",
       "Avg_Rain      0\n",
       "Production    0\n",
       "states_id     0\n",
       "crop_id       0\n",
       "dtype: int64"
      ]
     },
     "execution_count": 5,
     "metadata": {},
     "output_type": "execute_result"
    }
   ],
   "source": [
    "df.isnull().sum()"
   ]
  },
  {
   "cell_type": "code",
   "execution_count": 6,
   "metadata": {},
   "outputs": [
    {
     "data": {
      "text/html": [
       "<div>\n",
       "<style scoped>\n",
       "    .dataframe tbody tr th:only-of-type {\n",
       "        vertical-align: middle;\n",
       "    }\n",
       "\n",
       "    .dataframe tbody tr th {\n",
       "        vertical-align: top;\n",
       "    }\n",
       "\n",
       "    .dataframe thead th {\n",
       "        text-align: right;\n",
       "    }\n",
       "</style>\n",
       "<table border=\"1\" class=\"dataframe\">\n",
       "  <thead>\n",
       "    <tr style=\"text-align: right;\">\n",
       "      <th></th>\n",
       "      <th>Crop_Year</th>\n",
       "      <th>Area</th>\n",
       "      <th>Avg_Temp</th>\n",
       "      <th>Avg_Rain</th>\n",
       "      <th>Production</th>\n",
       "      <th>states_id</th>\n",
       "      <th>crop_id</th>\n",
       "    </tr>\n",
       "  </thead>\n",
       "  <tbody>\n",
       "    <tr>\n",
       "      <th>count</th>\n",
       "      <td>240442.000</td>\n",
       "      <td>240442.000</td>\n",
       "      <td>240442.000</td>\n",
       "      <td>240442.000</td>\n",
       "      <td>240442.000</td>\n",
       "      <td>240442.000</td>\n",
       "      <td>240442.000</td>\n",
       "    </tr>\n",
       "    <tr>\n",
       "      <th>mean</th>\n",
       "      <td>2005.655</td>\n",
       "      <td>11946.438</td>\n",
       "      <td>24.809</td>\n",
       "      <td>1121.037</td>\n",
       "      <td>585758.598</td>\n",
       "      <td>19.998</td>\n",
       "      <td>26.940</td>\n",
       "    </tr>\n",
       "    <tr>\n",
       "      <th>std</th>\n",
       "      <td>4.953</td>\n",
       "      <td>50856.175</td>\n",
       "      <td>0.255</td>\n",
       "      <td>92.857</td>\n",
       "      <td>17133603.708</td>\n",
       "      <td>10.706</td>\n",
       "      <td>17.823</td>\n",
       "    </tr>\n",
       "    <tr>\n",
       "      <th>min</th>\n",
       "      <td>1997.000</td>\n",
       "      <td>0.040</td>\n",
       "      <td>24.100</td>\n",
       "      <td>920.800</td>\n",
       "      <td>0.000</td>\n",
       "      <td>1.000</td>\n",
       "      <td>1.000</td>\n",
       "    </tr>\n",
       "    <tr>\n",
       "      <th>25%</th>\n",
       "      <td>2002.000</td>\n",
       "      <td>80.000</td>\n",
       "      <td>24.660</td>\n",
       "      <td>1071.300</td>\n",
       "      <td>75.000</td>\n",
       "      <td>12.000</td>\n",
       "      <td>15.000</td>\n",
       "    </tr>\n",
       "    <tr>\n",
       "      <th>50%</th>\n",
       "      <td>2006.000</td>\n",
       "      <td>565.000</td>\n",
       "      <td>24.740</td>\n",
       "      <td>1132.000</td>\n",
       "      <td>674.000</td>\n",
       "      <td>20.000</td>\n",
       "      <td>24.000</td>\n",
       "    </tr>\n",
       "    <tr>\n",
       "      <th>75%</th>\n",
       "      <td>2010.000</td>\n",
       "      <td>4279.750</td>\n",
       "      <td>25.060</td>\n",
       "      <td>1200.500</td>\n",
       "      <td>6589.000</td>\n",
       "      <td>31.000</td>\n",
       "      <td>36.000</td>\n",
       "    </tr>\n",
       "    <tr>\n",
       "      <th>max</th>\n",
       "      <td>2015.000</td>\n",
       "      <td>8580100.000</td>\n",
       "      <td>26.130</td>\n",
       "      <td>1243.500</td>\n",
       "      <td>1250800000.000</td>\n",
       "      <td>35.000</td>\n",
       "      <td>123.000</td>\n",
       "    </tr>\n",
       "  </tbody>\n",
       "</table>\n",
       "</div>"
      ],
      "text/plain": [
       "       Crop_Year        Area   Avg_Temp   Avg_Rain     Production  states_id    crop_id\n",
       "count 240442.000  240442.000 240442.000 240442.000     240442.000 240442.000 240442.000\n",
       "mean    2005.655   11946.438     24.809   1121.037     585758.598     19.998     26.940\n",
       "std        4.953   50856.175      0.255     92.857   17133603.708     10.706     17.823\n",
       "min     1997.000       0.040     24.100    920.800          0.000      1.000      1.000\n",
       "25%     2002.000      80.000     24.660   1071.300         75.000     12.000     15.000\n",
       "50%     2006.000     565.000     24.740   1132.000        674.000     20.000     24.000\n",
       "75%     2010.000    4279.750     25.060   1200.500       6589.000     31.000     36.000\n",
       "max     2015.000 8580100.000     26.130   1243.500 1250800000.000     35.000    123.000"
      ]
     },
     "execution_count": 6,
     "metadata": {},
     "output_type": "execute_result"
    }
   ],
   "source": [
    "df.describe()"
   ]
  },
  {
   "cell_type": "code",
   "execution_count": 7,
   "metadata": {},
   "outputs": [
    {
     "data": {
      "text/plain": [
       "<matplotlib.axes._subplots.AxesSubplot at 0x1d806649e50>"
      ]
     },
     "execution_count": 7,
     "metadata": {},
     "output_type": "execute_result"
    },
    {
     "data": {
      "image/png": "[encoded data removed]",
      "text/plain": [
       "<Figure size 432x288 with 1 Axes>"
      ]
     },
     "metadata": {
      "needs_background": "light"
     },
     "output_type": "display_data"
    }
   ],
   "source": [
    "sns.boxplot(df['Area'])"
   ]
  },
  {
   "cell_type": "code",
   "execution_count": 8,
   "metadata": {},
   "outputs": [
    {
     "name": "stdout",
     "output_type": "stream",
     "text": [
      "16578.5\n",
      "-9825.5\n"
     ]
    }
   ],
   "source": [
    "# Prodcution outliers\n",
    "IQR=6677.000-76.000\n",
    "upper_bound=(1.5*IQR)+6677.000\n",
    "lower_bound=76.000-(1.5*IQR)\n",
    "print(upper_bound)\n",
    "print(lower_bound)"
   ]
  },
  {
   "cell_type": "code",
   "execution_count": 9,
   "metadata": {},
   "outputs": [
    {
     "name": "stdout",
     "output_type": "stream",
     "text": [
      "10928.5\n",
      "-6427.5\n"
     ]
    }
   ],
   "source": [
    "# Area outliers\n",
    "IQR_a=4420.000-81.000\n",
    "upper_bound_a=(1.5*IQR_a)+4420.000\n",
    "lower_bound_a=81.000-(1.5*IQR_a)\n",
    "print(upper_bound_a)\n",
    "print(lower_bound_a)"
   ]
  },
  {
   "cell_type": "code",
   "execution_count": 10,
   "metadata": {},
   "outputs": [],
   "source": [
    "df=df[df.Production <=16578.5 ]"
   ]
  },
  {
   "cell_type": "code",
   "execution_count": 11,
   "metadata": {},
   "outputs": [],
   "source": [
    "df=df[df.Area <=10928.5 ]"
   ]
  },
  {
   "cell_type": "code",
   "execution_count": 12,
   "metadata": {},
   "outputs": [
    {
     "data": {
      "text/html": [
       "<div>\n",
       "<style scoped>\n",
       "    .dataframe tbody tr th:only-of-type {\n",
       "        vertical-align: middle;\n",
       "    }\n",
       "\n",
       "    .dataframe tbody tr th {\n",
       "        vertical-align: top;\n",
       "    }\n",
       "\n",
       "    .dataframe thead th {\n",
       "        text-align: right;\n",
       "    }\n",
       "</style>\n",
       "<table border=\"1\" class=\"dataframe\">\n",
       "  <thead>\n",
       "    <tr style=\"text-align: right;\">\n",
       "      <th></th>\n",
       "      <th>Crop_Year</th>\n",
       "      <th>Area</th>\n",
       "      <th>Avg_Temp</th>\n",
       "      <th>Avg_Rain</th>\n",
       "      <th>Production</th>\n",
       "      <th>states_id</th>\n",
       "      <th>crop_id</th>\n",
       "    </tr>\n",
       "  </thead>\n",
       "  <tbody>\n",
       "    <tr>\n",
       "      <th>count</th>\n",
       "      <td>189751.000</td>\n",
       "      <td>189751.000</td>\n",
       "      <td>189751.000</td>\n",
       "      <td>189751.000</td>\n",
       "      <td>189751.000</td>\n",
       "      <td>189751.000</td>\n",
       "      <td>189751.000</td>\n",
       "    </tr>\n",
       "    <tr>\n",
       "      <th>mean</th>\n",
       "      <td>2005.729</td>\n",
       "      <td>1153.454</td>\n",
       "      <td>24.813</td>\n",
       "      <td>1120.328</td>\n",
       "      <td>1479.136</td>\n",
       "      <td>19.871</td>\n",
       "      <td>28.431</td>\n",
       "    </tr>\n",
       "    <tr>\n",
       "      <th>std</th>\n",
       "      <td>4.923</td>\n",
       "      <td>2007.001</td>\n",
       "      <td>0.253</td>\n",
       "      <td>93.314</td>\n",
       "      <td>2755.201</td>\n",
       "      <td>10.790</td>\n",
       "      <td>17.579</td>\n",
       "    </tr>\n",
       "    <tr>\n",
       "      <th>min</th>\n",
       "      <td>1997.000</td>\n",
       "      <td>0.040</td>\n",
       "      <td>24.100</td>\n",
       "      <td>920.800</td>\n",
       "      <td>0.000</td>\n",
       "      <td>1.000</td>\n",
       "      <td>1.000</td>\n",
       "    </tr>\n",
       "    <tr>\n",
       "      <th>25%</th>\n",
       "      <td>2002.000</td>\n",
       "      <td>46.000</td>\n",
       "      <td>24.660</td>\n",
       "      <td>1071.300</td>\n",
       "      <td>39.000</td>\n",
       "      <td>11.000</td>\n",
       "      <td>17.000</td>\n",
       "    </tr>\n",
       "    <tr>\n",
       "      <th>50%</th>\n",
       "      <td>2006.000</td>\n",
       "      <td>255.000</td>\n",
       "      <td>24.740</td>\n",
       "      <td>1132.000</td>\n",
       "      <td>281.000</td>\n",
       "      <td>20.000</td>\n",
       "      <td>26.000</td>\n",
       "    </tr>\n",
       "    <tr>\n",
       "      <th>75%</th>\n",
       "      <td>2010.000</td>\n",
       "      <td>1202.000</td>\n",
       "      <td>25.060</td>\n",
       "      <td>1200.500</td>\n",
       "      <td>1480.000</td>\n",
       "      <td>31.000</td>\n",
       "      <td>38.000</td>\n",
       "    </tr>\n",
       "    <tr>\n",
       "      <th>max</th>\n",
       "      <td>2015.000</td>\n",
       "      <td>10927.000</td>\n",
       "      <td>26.130</td>\n",
       "      <td>1243.500</td>\n",
       "      <td>16574.000</td>\n",
       "      <td>35.000</td>\n",
       "      <td>123.000</td>\n",
       "    </tr>\n",
       "  </tbody>\n",
       "</table>\n",
       "</div>"
      ],
      "text/plain": [
       "       Crop_Year       Area   Avg_Temp   Avg_Rain  Production  states_id    crop_id\n",
       "count 189751.000 189751.000 189751.000 189751.000  189751.000 189751.000 189751.000\n",
       "mean    2005.729   1153.454     24.813   1120.328    1479.136     19.871     28.431\n",
       "std        4.923   2007.001      0.253     93.314    2755.201     10.790     17.579\n",
       "min     1997.000      0.040     24.100    920.800       0.000      1.000      1.000\n",
       "25%     2002.000     46.000     24.660   1071.300      39.000     11.000     17.000\n",
       "50%     2006.000    255.000     24.740   1132.000     281.000     20.000     26.000\n",
       "75%     2010.000   1202.000     25.060   1200.500    1480.000     31.000     38.000\n",
       "max     2015.000  10927.000     26.130   1243.500   16574.000     35.000    123.000"
      ]
     },
     "execution_count": 12,
     "metadata": {},
     "output_type": "execute_result"
    }
   ],
   "source": [
    "df.describe()"
   ]
  },
  {
   "cell_type": "code",
   "execution_count": 13,
   "metadata": {},
   "outputs": [
    {
     "data": {
      "text/plain": [
       "Index(['State_Name', 'Crop_Year', 'Crop', 'Area', 'Avg_Temp', 'Avg_Rain',\n",
       "       'Production', 'states_id', 'crop_id'],\n",
       "      dtype='object')"
      ]
     },
     "execution_count": 13,
     "metadata": {},
     "output_type": "execute_result"
    }
   ],
   "source": [
    "df.columns"
   ]
  },
  {
   "cell_type": "code",
   "execution_count": 14,
   "metadata": {},
   "outputs": [],
   "source": [
    "import category_encoders as ce"
   ]
  },
  {
   "cell_type": "code",
   "execution_count": 15,
   "metadata": {},
   "outputs": [],
   "source": [
    "encoder=ce.sum_coding.SumEncoder(cols='Crop',verbose=False,)"
   ]
  },
  {
   "cell_type": "code",
   "execution_count": 16,
   "metadata": {},
   "outputs": [],
   "source": [
    "encoder_state=ce.sum_coding.SumEncoder(cols='State_Name',verbose=False,)"
   ]
  },
  {
   "cell_type": "code",
   "execution_count": 17,
   "metadata": {},
   "outputs": [],
   "source": [
    "df_encoded=encoder.fit_transform(df)\n",
    "df_encoded_1=encoder_state.fit_transform(df_encoded)"
   ]
  },
  {
   "cell_type": "code",
   "execution_count": 18,
   "metadata": {},
   "outputs": [
    {
     "data": {
      "text/html": [
       "<div>\n",
       "<style scoped>\n",
       "    .dataframe tbody tr th:only-of-type {\n",
       "        vertical-align: middle;\n",
       "    }\n",
       "\n",
       "    .dataframe tbody tr th {\n",
       "        vertical-align: top;\n",
       "    }\n",
       "\n",
       "    .dataframe thead th {\n",
       "        text-align: right;\n",
       "    }\n",
       "</style>\n",
       "<table border=\"1\" class=\"dataframe\">\n",
       "  <thead>\n",
       "    <tr style=\"text-align: right;\">\n",
       "      <th></th>\n",
       "      <th>intercept</th>\n",
       "      <th>intercept</th>\n",
       "      <th>State_Name_0</th>\n",
       "      <th>State_Name_1</th>\n",
       "      <th>State_Name_2</th>\n",
       "      <th>State_Name_3</th>\n",
       "      <th>State_Name_4</th>\n",
       "      <th>State_Name_5</th>\n",
       "      <th>State_Name_6</th>\n",
       "      <th>State_Name_7</th>\n",
       "      <th>...</th>\n",
       "      <th>Crop_118</th>\n",
       "      <th>Crop_119</th>\n",
       "      <th>Crop_120</th>\n",
       "      <th>Crop_121</th>\n",
       "      <th>Area</th>\n",
       "      <th>Avg_Temp</th>\n",
       "      <th>Avg_Rain</th>\n",
       "      <th>Production</th>\n",
       "      <th>states_id</th>\n",
       "      <th>crop_id</th>\n",
       "    </tr>\n",
       "  </thead>\n",
       "  <tbody>\n",
       "    <tr>\n",
       "      <th>0</th>\n",
       "      <td>1</td>\n",
       "      <td>1</td>\n",
       "      <td>1.000</td>\n",
       "      <td>0.000</td>\n",
       "      <td>0.000</td>\n",
       "      <td>0.000</td>\n",
       "      <td>0.000</td>\n",
       "      <td>0.000</td>\n",
       "      <td>0.000</td>\n",
       "      <td>0.000</td>\n",
       "      <td>...</td>\n",
       "      <td>0.000</td>\n",
       "      <td>0.000</td>\n",
       "      <td>0.000</td>\n",
       "      <td>0.000</td>\n",
       "      <td>1254.000</td>\n",
       "      <td>24.600</td>\n",
       "      <td>1050.400</td>\n",
       "      <td>2000.000</td>\n",
       "      <td>1</td>\n",
       "      <td>1</td>\n",
       "    </tr>\n",
       "    <tr>\n",
       "      <th>1</th>\n",
       "      <td>1</td>\n",
       "      <td>1</td>\n",
       "      <td>1.000</td>\n",
       "      <td>0.000</td>\n",
       "      <td>0.000</td>\n",
       "      <td>0.000</td>\n",
       "      <td>0.000</td>\n",
       "      <td>0.000</td>\n",
       "      <td>0.000</td>\n",
       "      <td>0.000</td>\n",
       "      <td>...</td>\n",
       "      <td>0.000</td>\n",
       "      <td>0.000</td>\n",
       "      <td>0.000</td>\n",
       "      <td>0.000</td>\n",
       "      <td>2.000</td>\n",
       "      <td>24.600</td>\n",
       "      <td>1050.400</td>\n",
       "      <td>1.000</td>\n",
       "      <td>1</td>\n",
       "      <td>2</td>\n",
       "    </tr>\n",
       "    <tr>\n",
       "      <th>2</th>\n",
       "      <td>1</td>\n",
       "      <td>1</td>\n",
       "      <td>1.000</td>\n",
       "      <td>0.000</td>\n",
       "      <td>0.000</td>\n",
       "      <td>0.000</td>\n",
       "      <td>0.000</td>\n",
       "      <td>0.000</td>\n",
       "      <td>0.000</td>\n",
       "      <td>0.000</td>\n",
       "      <td>...</td>\n",
       "      <td>0.000</td>\n",
       "      <td>0.000</td>\n",
       "      <td>0.000</td>\n",
       "      <td>0.000</td>\n",
       "      <td>102.000</td>\n",
       "      <td>24.600</td>\n",
       "      <td>1050.400</td>\n",
       "      <td>321.000</td>\n",
       "      <td>1</td>\n",
       "      <td>3</td>\n",
       "    </tr>\n",
       "    <tr>\n",
       "      <th>3</th>\n",
       "      <td>1</td>\n",
       "      <td>1</td>\n",
       "      <td>1.000</td>\n",
       "      <td>0.000</td>\n",
       "      <td>0.000</td>\n",
       "      <td>0.000</td>\n",
       "      <td>0.000</td>\n",
       "      <td>0.000</td>\n",
       "      <td>0.000</td>\n",
       "      <td>0.000</td>\n",
       "      <td>...</td>\n",
       "      <td>0.000</td>\n",
       "      <td>0.000</td>\n",
       "      <td>0.000</td>\n",
       "      <td>0.000</td>\n",
       "      <td>176.000</td>\n",
       "      <td>24.600</td>\n",
       "      <td>1050.400</td>\n",
       "      <td>641.000</td>\n",
       "      <td>1</td>\n",
       "      <td>4</td>\n",
       "    </tr>\n",
       "    <tr>\n",
       "      <th>4</th>\n",
       "      <td>1</td>\n",
       "      <td>1</td>\n",
       "      <td>1.000</td>\n",
       "      <td>0.000</td>\n",
       "      <td>0.000</td>\n",
       "      <td>0.000</td>\n",
       "      <td>0.000</td>\n",
       "      <td>0.000</td>\n",
       "      <td>0.000</td>\n",
       "      <td>0.000</td>\n",
       "      <td>...</td>\n",
       "      <td>0.000</td>\n",
       "      <td>0.000</td>\n",
       "      <td>0.000</td>\n",
       "      <td>0.000</td>\n",
       "      <td>720.000</td>\n",
       "      <td>24.600</td>\n",
       "      <td>1050.400</td>\n",
       "      <td>165.000</td>\n",
       "      <td>1</td>\n",
       "      <td>5</td>\n",
       "    </tr>\n",
       "    <tr>\n",
       "      <th>...</th>\n",
       "      <td>...</td>\n",
       "      <td>...</td>\n",
       "      <td>...</td>\n",
       "      <td>...</td>\n",
       "      <td>...</td>\n",
       "      <td>...</td>\n",
       "      <td>...</td>\n",
       "      <td>...</td>\n",
       "      <td>...</td>\n",
       "      <td>...</td>\n",
       "      <td>...</td>\n",
       "      <td>...</td>\n",
       "      <td>...</td>\n",
       "      <td>...</td>\n",
       "      <td>...</td>\n",
       "      <td>...</td>\n",
       "      <td>...</td>\n",
       "      <td>...</td>\n",
       "      <td>...</td>\n",
       "      <td>...</td>\n",
       "      <td>...</td>\n",
       "    </tr>\n",
       "    <tr>\n",
       "      <th>240437</th>\n",
       "      <td>1</td>\n",
       "      <td>1</td>\n",
       "      <td>0.000</td>\n",
       "      <td>0.000</td>\n",
       "      <td>0.000</td>\n",
       "      <td>0.000</td>\n",
       "      <td>0.000</td>\n",
       "      <td>0.000</td>\n",
       "      <td>0.000</td>\n",
       "      <td>0.000</td>\n",
       "      <td>...</td>\n",
       "      <td>0.000</td>\n",
       "      <td>0.000</td>\n",
       "      <td>0.000</td>\n",
       "      <td>0.000</td>\n",
       "      <td>546.000</td>\n",
       "      <td>26.130</td>\n",
       "      <td>1093.200</td>\n",
       "      <td>520.000</td>\n",
       "      <td>30</td>\n",
       "      <td>52</td>\n",
       "    </tr>\n",
       "    <tr>\n",
       "      <th>240438</th>\n",
       "      <td>1</td>\n",
       "      <td>1</td>\n",
       "      <td>0.000</td>\n",
       "      <td>0.000</td>\n",
       "      <td>0.000</td>\n",
       "      <td>0.000</td>\n",
       "      <td>0.000</td>\n",
       "      <td>0.000</td>\n",
       "      <td>0.000</td>\n",
       "      <td>0.000</td>\n",
       "      <td>...</td>\n",
       "      <td>0.000</td>\n",
       "      <td>0.000</td>\n",
       "      <td>0.000</td>\n",
       "      <td>0.000</td>\n",
       "      <td>914.000</td>\n",
       "      <td>26.130</td>\n",
       "      <td>1093.200</td>\n",
       "      <td>811.000</td>\n",
       "      <td>30</td>\n",
       "      <td>31</td>\n",
       "    </tr>\n",
       "    <tr>\n",
       "      <th>240439</th>\n",
       "      <td>1</td>\n",
       "      <td>1</td>\n",
       "      <td>0.000</td>\n",
       "      <td>0.000</td>\n",
       "      <td>0.000</td>\n",
       "      <td>0.000</td>\n",
       "      <td>0.000</td>\n",
       "      <td>0.000</td>\n",
       "      <td>0.000</td>\n",
       "      <td>0.000</td>\n",
       "      <td>...</td>\n",
       "      <td>0.000</td>\n",
       "      <td>0.000</td>\n",
       "      <td>0.000</td>\n",
       "      <td>0.000</td>\n",
       "      <td>12.000</td>\n",
       "      <td>26.130</td>\n",
       "      <td>1093.200</td>\n",
       "      <td>11.000</td>\n",
       "      <td>30</td>\n",
       "      <td>47</td>\n",
       "    </tr>\n",
       "    <tr>\n",
       "      <th>240440</th>\n",
       "      <td>1</td>\n",
       "      <td>1</td>\n",
       "      <td>0.000</td>\n",
       "      <td>0.000</td>\n",
       "      <td>0.000</td>\n",
       "      <td>0.000</td>\n",
       "      <td>0.000</td>\n",
       "      <td>0.000</td>\n",
       "      <td>0.000</td>\n",
       "      <td>0.000</td>\n",
       "      <td>...</td>\n",
       "      <td>0.000</td>\n",
       "      <td>0.000</td>\n",
       "      <td>0.000</td>\n",
       "      <td>0.000</td>\n",
       "      <td>625.000</td>\n",
       "      <td>26.130</td>\n",
       "      <td>1093.200</td>\n",
       "      <td>540.000</td>\n",
       "      <td>30</td>\n",
       "      <td>41</td>\n",
       "    </tr>\n",
       "    <tr>\n",
       "      <th>240441</th>\n",
       "      <td>1</td>\n",
       "      <td>1</td>\n",
       "      <td>0.000</td>\n",
       "      <td>0.000</td>\n",
       "      <td>0.000</td>\n",
       "      <td>0.000</td>\n",
       "      <td>0.000</td>\n",
       "      <td>0.000</td>\n",
       "      <td>0.000</td>\n",
       "      <td>0.000</td>\n",
       "      <td>...</td>\n",
       "      <td>0.000</td>\n",
       "      <td>0.000</td>\n",
       "      <td>0.000</td>\n",
       "      <td>0.000</td>\n",
       "      <td>20.000</td>\n",
       "      <td>26.130</td>\n",
       "      <td>1093.200</td>\n",
       "      <td>21.000</td>\n",
       "      <td>30</td>\n",
       "      <td>34</td>\n",
       "    </tr>\n",
       "  </tbody>\n",
       "</table>\n",
       "<p>189751 rows × 162 columns</p>\n",
       "</div>"
      ],
      "text/plain": [
       "        intercept  intercept  State_Name_0  State_Name_1  State_Name_2  State_Name_3  State_Name_4  State_Name_5  State_Name_6  State_Name_7  ...  Crop_118  Crop_119  Crop_120  Crop_121     Area  Avg_Temp  Avg_Rain  Production  states_id  crop_id\n",
       "0               1          1         1.000         0.000         0.000         0.000         0.000         0.000         0.000         0.000  ...     0.000     0.000     0.000     0.000 1254.000    24.600  1050.400    2000.000          1        1\n",
       "1               1          1         1.000         0.000         0.000         0.000         0.000         0.000         0.000         0.000  ...     0.000     0.000     0.000     0.000    2.000    24.600  1050.400       1.000          1        2\n",
       "2               1          1         1.000         0.000         0.000         0.000         0.000         0.000         0.000         0.000  ...     0.000     0.000     0.000     0.000  102.000    24.600  1050.400     321.000          1        3\n",
       "3               1          1         1.000         0.000         0.000         0.000         0.000         0.000         0.000         0.000  ...     0.000     0.000     0.000     0.000  176.000    24.600  1050.400     641.000          1        4\n",
       "4               1          1         1.000         0.000         0.000         0.000         0.000         0.000         0.000         0.000  ...     0.000     0.000     0.000     0.000  720.000    24.600  1050.400     165.000          1        5\n",
       "...           ...        ...           ...           ...           ...           ...           ...           ...           ...           ...  ...       ...       ...       ...       ...      ...       ...       ...         ...        ...      ...\n",
       "240437          1          1         0.000         0.000         0.000         0.000         0.000         0.000         0.000         0.000  ...     0.000     0.000     0.000     0.000  546.000    26.130  1093.200     520.000         30       52\n",
       "240438          1          1         0.000         0.000         0.000         0.000         0.000         0.000         0.000         0.000  ...     0.000     0.000     0.000     0.000  914.000    26.130  1093.200     811.000         30       31\n",
       "240439          1          1         0.000         0.000         0.000         0.000         0.000         0.000         0.000         0.000  ...     0.000     0.000     0.000     0.000   12.000    26.130  1093.200      11.000         30       47\n",
       "240440          1          1         0.000         0.000         0.000         0.000         0.000         0.000         0.000         0.000  ...     0.000     0.000     0.000     0.000  625.000    26.130  1093.200     540.000         30       41\n",
       "240441          1          1         0.000         0.000         0.000         0.000         0.000         0.000         0.000         0.000  ...     0.000     0.000     0.000     0.000   20.000    26.130  1093.200      21.000         30       34\n",
       "\n",
       "[189751 rows x 162 columns]"
      ]
     },
     "execution_count": 18,
     "metadata": {},
     "output_type": "execute_result"
    }
   ],
   "source": [
    "df_encoded_1"
   ]
  },
  {
   "cell_type": "code",
   "execution_count": 19,
   "metadata": {},
   "outputs": [],
   "source": [
    "a=df_encoded_1.columns"
   ]
  },
  {
   "cell_type": "code",
   "execution_count": 20,
   "metadata": {},
   "outputs": [
    {
     "name": "stdout",
     "output_type": "stream",
     "text": [
      "\"intercept\",\"intercept\",\"State_Name_0\",\"State_Name_1\",\"State_Name_2\",\"State_Name_3\",\"State_Name_4\",\"State_Name_5\",\"State_Name_6\",\"State_Name_7\",\"State_Name_8\",\"State_Name_9\",\"State_Name_10\",\"State_Name_11\",\"State_Name_12\",\"State_Name_13\",\"State_Name_14\",\"State_Name_15\",\"State_Name_16\",\"State_Name_17\",\"State_Name_18\",\"State_Name_19\",\"State_Name_20\",\"State_Name_21\",\"State_Name_22\",\"State_Name_23\",\"State_Name_24\",\"State_Name_25\",\"State_Name_26\",\"State_Name_27\",\"State_Name_28\",\"State_Name_29\",\"State_Name_30\",\"Crop_Year\",\"Crop_0\",\"Crop_1\",\"Crop_2\",\"Crop_3\",\"Crop_4\",\"Crop_5\",\"Crop_6\",\"Crop_7\",\"Crop_8\",\"Crop_9\",\"Crop_10\",\"Crop_11\",\"Crop_12\",\"Crop_13\",\"Crop_14\",\"Crop_15\",\"Crop_16\",\"Crop_17\",\"Crop_18\",\"Crop_19\",\"Crop_20\",\"Crop_21\",\"Crop_22\",\"Crop_23\",\"Crop_24\",\"Crop_25\",\"Crop_26\",\"Crop_27\",\"Crop_28\",\"Crop_29\",\"Crop_30\",\"Crop_31\",\"Crop_32\",\"Crop_33\",\"Crop_34\",\"Crop_35\",\"Crop_36\",\"Crop_37\",\"Crop_38\",\"Crop_39\",\"Crop_40\",\"Crop_41\",\"Crop_42\",\"Crop_43\",\"Crop_44\",\"Crop_45\",\"Crop_46\",\"Crop_47\",\"Crop_48\",\"Crop_49\",\"Crop_50\",\"Crop_51\",\"Crop_52\",\"Crop_53\",\"Crop_54\",\"Crop_55\",\"Crop_56\",\"Crop_57\",\"Crop_58\",\"Crop_59\",\"Crop_60\",\"Crop_61\",\"Crop_62\",\"Crop_63\",\"Crop_64\",\"Crop_65\",\"Crop_66\",\"Crop_67\",\"Crop_68\",\"Crop_69\",\"Crop_70\",\"Crop_71\",\"Crop_72\",\"Crop_73\",\"Crop_74\",\"Crop_75\",\"Crop_76\",\"Crop_77\",\"Crop_78\",\"Crop_79\",\"Crop_80\",\"Crop_81\",\"Crop_82\",\"Crop_83\",\"Crop_84\",\"Crop_85\",\"Crop_86\",\"Crop_87\",\"Crop_88\",\"Crop_89\",\"Crop_90\",\"Crop_91\",\"Crop_92\",\"Crop_93\",\"Crop_94\",\"Crop_95\",\"Crop_96\",\"Crop_97\",\"Crop_98\",\"Crop_99\",\"Crop_100\",\"Crop_101\",\"Crop_102\",\"Crop_103\",\"Crop_104\",\"Crop_105\",\"Crop_106\",\"Crop_107\",\"Crop_108\",\"Crop_109\",\"Crop_110\",\"Crop_111\",\"Crop_112\",\"Crop_113\",\"Crop_114\",\"Crop_115\",\"Crop_116\",\"Crop_117\",\"Crop_118\",\"Crop_119\",\"Crop_120\",\"Crop_121\",\"Area\",\"Avg_Temp\",\"Avg_Rain\",\"Production\",\"states_id\",\"crop_id\","
     ]
    }
   ],
   "source": [
    "for i in a:\n",
    "    print('\"{}\"'.format(i),end=',')"
   ]
  },
  {
   "cell_type": "code",
   "execution_count": 25,
   "metadata": {},
   "outputs": [],
   "source": [
    "df_encoded_1=df_encoded_1.sample(frac = 0.4) "
   ]
  },
  {
   "cell_type": "code",
   "execution_count": 26,
   "metadata": {},
   "outputs": [],
   "source": [
    "from sklearn.model_selection import train_test_split "
   ]
  },
  {
   "cell_type": "code",
   "execution_count": 27,
   "metadata": {},
   "outputs": [],
   "source": [
    "X=df_encoded_1[[ \"State_Name_0\",\"State_Name_1\",\"State_Name_2\",\"State_Name_3\",\"State_Name_4\",\"State_Name_5\",\n",
    "              \"State_Name_6\",\"State_Name_7\",\"State_Name_8\",\"State_Name_9\",\"State_Name_10\",\"State_Name_11\",\n",
    "              \"State_Name_12\",\"State_Name_13\",\"State_Name_14\",\"State_Name_15\",\"State_Name_16\",\"State_Name_17\",\n",
    "              \"State_Name_18\",\"State_Name_19\",\"State_Name_20\",\"State_Name_21\",\"State_Name_22\",\"State_Name_23\",\n",
    "              \"State_Name_24\",\"State_Name_25\",\"State_Name_26\",\"State_Name_27\",\"State_Name_28\",\"State_Name_29\",\"State_Name_30\",\n",
    "              \"Crop_0\",\"Crop_1\",\"Crop_2\",\"Crop_3\",\"Crop_4\",\"Crop_5\",\"Crop_6\",\"Crop_7\",\"Crop_8\",\n",
    "              \"Crop_9\",\"Crop_10\",\"Crop_11\",\"Crop_12\",\"Crop_13\",\"Crop_14\",\"Crop_15\",\"Crop_16\",\n",
    "              \"Crop_17\",\"Crop_18\",\"Crop_19\",\"Crop_20\",\"Crop_21\",\"Crop_22\",\"Crop_23\",\"Crop_24\",\n",
    "              \"Crop_25\",\"Crop_26\",\"Crop_27\",\"Crop_28\",\"Crop_29\",\"Crop_30\",\"Crop_31\",\"Crop_32\",\n",
    "              \"Crop_33\",\"Crop_34\",\"Crop_35\",\"Crop_36\",\"Crop_37\",\"Crop_38\",\"Crop_39\",\"Crop_40\",\n",
    "              \"Crop_41\",\"Crop_42\",\"Crop_43\",\"Crop_44\",\"Crop_45\",\"Crop_46\",\"Crop_47\",\"Crop_48\",\n",
    "              \"Crop_49\",\"Crop_50\",\"Crop_51\",\"Crop_52\",\"Crop_53\",\"Crop_54\",\"Crop_55\",\"Crop_56\",\n",
    "              \"Crop_57\",\"Crop_58\",\"Crop_59\",\"Crop_60\",\"Crop_61\",\"Crop_62\",\"Crop_63\",\"Crop_64\",\n",
    "              \"Crop_65\",\"Crop_66\",\"Crop_67\",\"Crop_68\",\"Crop_69\",\"Crop_70\",\"Crop_71\",\"Crop_72\",\n",
    "              \"Crop_73\",\"Crop_74\",\"Crop_75\",\"Crop_76\",\"Crop_77\",\"Crop_78\",\"Crop_79\",\"Crop_80\",\n",
    "              \"Crop_81\",\"Crop_82\",\"Crop_83\",\"Crop_84\",\"Crop_85\",\"Crop_86\",\"Crop_87\",\"Crop_88\",\n",
    "              \"Crop_89\",\"Crop_90\",\"Crop_91\",\"Crop_92\",\"Crop_93\",\"Crop_94\",\"Crop_95\",\"Crop_96\",\n",
    "              \"Crop_97\",\"Crop_98\",\"Crop_99\",\"Crop_100\",\"Crop_101\",\"Crop_102\",\"Crop_103\",\"Crop_104\",\n",
    "              \"Crop_105\",\"Crop_106\",\"Crop_107\",\"Crop_108\",\"Crop_109\",\"Crop_110\",\"Crop_111\",\"Crop_112\",\n",
    "              \"Crop_113\",\"Crop_114\",'Crop_Year','Avg_Temp', 'Avg_Rain', 'Area',]].values\n",
    "\n",
    "\n",
    "df_encoded_1.Production  = df_encoded_1.Production.astype(int) \n",
    "\n",
    "\n",
    "y=df_encoded_1[['Production']].values"
   ]
  },
  {
   "cell_type": "code",
   "execution_count": 28,
   "metadata": {},
   "outputs": [],
   "source": [
    "X_train,X_test,y_train,y_test=train_test_split(X,y,test_size = 0.30)"
   ]
  },
  {
   "cell_type": "code",
   "execution_count": 29,
   "metadata": {},
   "outputs": [],
   "source": [
    "from sklearn.preprocessing import StandardScaler"
   ]
  },
  {
   "cell_type": "code",
   "execution_count": 30,
   "metadata": {},
   "outputs": [],
   "source": [
    "sc = StandardScaler()\n",
    "X_train_std = sc.fit_transform(X_train)\n",
    "X_test_std = sc.transform(X_test)"
   ]
  },
  {
   "cell_type": "code",
   "execution_count": 31,
   "metadata": {},
   "outputs": [],
   "source": [
    "gbr_params = {'n_estimators': 700,\n",
    "          'max_depth': 3,\n",
    "          'min_samples_split': 6,\n",
    "          'learning_rate': 0.01,\n",
    "          'loss': 'ls'}"
   ]
  },
  {
   "cell_type": "code",
   "execution_count": 32,
   "metadata": {},
   "outputs": [],
   "source": [
    "from sklearn.ensemble import GradientBoostingRegressor"
   ]
  },
  {
   "cell_type": "code",
   "execution_count": 33,
   "metadata": {},
   "outputs": [],
   "source": [
    "gbr = GradientBoostingRegressor(**gbr_params)"
   ]
  },
  {
   "cell_type": "code",
   "execution_count": 34,
   "metadata": {},
   "outputs": [
    {
     "data": {
      "text/plain": [
       "GradientBoostingRegressor(learning_rate=0.01, min_samples_split=6,\n",
       "                          n_estimators=700)"
      ]
     },
     "execution_count": 34,
     "metadata": {},
     "output_type": "execute_result"
    }
   ],
   "source": [
    "gbr.fit(X_train_std, y_train.ravel())"
   ]
  },
  {
   "cell_type": "code",
   "execution_count": 40,
   "metadata": {},
   "outputs": [],
   "source": [
    "import pickle\n",
    "pickle.dump(gbr, open('gbr_model.pkl', 'wb'))"
   ]
  },
  {
   "cell_type": "code",
   "execution_count": 35,
   "metadata": {},
   "outputs": [
    {
     "name": "stdout",
     "output_type": "stream",
     "text": [
      "Model Accuracy: 0.666\n"
     ]
    }
   ],
   "source": [
    "\n",
    "print(\"Model Accuracy: %.3f\" % gbr.score(X_test_std, y_test))"
   ]
  },
  {
   "cell_type": "code",
   "execution_count": 36,
   "metadata": {},
   "outputs": [],
   "source": [
    "y_pred = gbr.predict(X_test_std) "
   ]
  },
  {
   "cell_type": "code",
   "execution_count": 37,
   "metadata": {},
   "outputs": [
    {
     "name": "stdout",
     "output_type": "stream",
     "text": [
      "r2 score for model is 0.6657834117029048\n"
     ]
    }
   ],
   "source": [
    "from sklearn.metrics import r2_score\n",
    "r2 = r2_score( y_test,y_pred) \n",
    "print('r2 score for model is', r2)"
   ]
  },
  {
   "cell_type": "code",
   "execution_count": 38,
   "metadata": {},
   "outputs": [
    {
     "data": {
      "text/plain": [
       "<matplotlib.collections.PathCollection at 0x1d80703ae50>"
      ]
     },
     "execution_count": 38,
     "metadata": {},
     "output_type": "execute_result"
    },
    {
     "data": {
      "image/png": "[encoded data removed]",
      "text/plain": [
       "<Figure size 432x288 with 1 Axes>"
      ]
     },
     "metadata": {
      "needs_background": "light"
     },
     "output_type": "display_data"
    }
   ],
   "source": [
    "plt.scatter(y_test,y_pred)"
   ]
  },
  {
   "cell_type": "code",
   "execution_count": 39,
   "metadata": {},
   "outputs": [],
   "source": [
    "#sns.distplot(y_test-y_pred)"
   ]
  },
  {
   "cell_type": "code",
   "execution_count": null,
   "metadata": {},
   "outputs": [],
   "source": [
    "from sklearn.model_selection import cross_val_score\n",
    "from sklearn.model_selection import KFold\n",
    "def train_and_evaluate(clf, X_train, y_train):\n",
    "    \n",
    "    clf.fit(X_train, y_train)\n",
    "    \n",
    "    print (\"Coefficient of determination on training set:\",clf.score(X_train, y_train))\n",
    "    \n",
    "    # create a k-fold cross validation iterator of k=5 folds\n",
    "    cv = KFold(n_splits=10, random_state=1, shuffle=True)\n",
    "    scores = cross_val_score(clf, X_train, y_train,cv=cv, n_jobs=-1)\n",
    "    print('Cross Validation Score')\n",
    "    print(\"%0.2f accuracy with a standard deviation of %0.2f\" % (scores.mean(), scores.std()))"
   ]
  },
  {
   "cell_type": "code",
   "execution_count": null,
   "metadata": {},
   "outputs": [],
   "source": [
    "train_and_evaluate(gbr, X_train_std, y_train.ravel())"
   ]
  },
  {
   "cell_type": "markdown",
   "metadata": {},
   "source": [
    "### Random Forrest Regressor"
   ]
  },
  {
   "cell_type": "code",
   "execution_count": 41,
   "metadata": {},
   "outputs": [],
   "source": [
    "from sklearn.ensemble import RandomForestRegressor"
   ]
  },
  {
   "cell_type": "code",
   "execution_count": 42,
   "metadata": {},
   "outputs": [],
   "source": [
    "reg=RandomForestRegressor(n_estimators=100)"
   ]
  },
  {
   "cell_type": "code",
   "execution_count": 43,
   "metadata": {},
   "outputs": [
    {
     "data": {
      "text/plain": [
       "RandomForestRegressor()"
      ]
     },
     "execution_count": 43,
     "metadata": {},
     "output_type": "execute_result"
    }
   ],
   "source": [
    "reg.fit(X_train_std, y_train.ravel())"
   ]
  },
  {
   "cell_type": "code",
   "execution_count": 48,
   "metadata": {},
   "outputs": [],
   "source": [
    "import pickle\n",
    "pickle.dump(reg, open('rfreg_model.pkl', 'wb'))"
   ]
  },
  {
   "cell_type": "code",
   "execution_count": 44,
   "metadata": {},
   "outputs": [
    {
     "name": "stdout",
     "output_type": "stream",
     "text": [
      "Model Accuracy: 0.816\n"
     ]
    }
   ],
   "source": [
    "\n",
    "print(\"Model Accuracy: %.3f\" % reg.score(X_test_std, y_test))"
   ]
  },
  {
   "cell_type": "code",
   "execution_count": 45,
   "metadata": {},
   "outputs": [],
   "source": [
    "y_pred = reg.predict(X_test_std) "
   ]
  },
  {
   "cell_type": "code",
   "execution_count": 46,
   "metadata": {},
   "outputs": [
    {
     "name": "stdout",
     "output_type": "stream",
     "text": [
      "r2 score for model is 0.8161265233140556\n"
     ]
    }
   ],
   "source": [
    "from sklearn.metrics import r2_score\n",
    "r2 = r2_score( y_test,y_pred) \n",
    "print('r2 score for model is', r2)"
   ]
  },
  {
   "cell_type": "code",
   "execution_count": 47,
   "metadata": {},
   "outputs": [
    {
     "data": {
      "text/plain": [
       "Text(0.5, 1.0, 'Test Values Vs Predicted Values')"
      ]
     },
     "execution_count": 47,
     "metadata": {},
     "output_type": "execute_result"
    },
    {
     "data": {
      "image/png": "[encoded data removed]",
      "text/plain": [
       "<Figure size 432x288 with 1 Axes>"
      ]
     },
     "metadata": {
      "needs_background": "light"
     },
     "output_type": "display_data"
    }
   ],
   "source": [
    "plt.scatter(y_test,y_pred)\n",
    "plt.xlabel(\"y_test\")\n",
    "plt.ylabel(\"y_pred\")\n",
    "plt.title(\"Test Values Vs Predicted Values\")"
   ]
  },
  {
   "cell_type": "code",
   "execution_count": null,
   "metadata": {},
   "outputs": [],
   "source": [
    "y_pred=np.array(y_pred)\n",
    "y_test=np.array(y_test)"
   ]
  },
  {
   "cell_type": "code",
   "execution_count": null,
   "metadata": {},
   "outputs": [],
   "source": [
    "train_and_evaluate(reg, X_train_std, y_train.ravel())"
   ]
  },
  {
   "cell_type": "code",
   "execution_count": null,
   "metadata": {},
   "outputs": [],
   "source": [
    "#plt.hist(y_test-y_pred)"
   ]
  },
  {
   "cell_type": "markdown",
   "metadata": {},
   "source": [
    "### SVM\n"
   ]
  },
  {
   "cell_type": "code",
   "execution_count": null,
   "metadata": {},
   "outputs": [],
   "source": [
    "#from sklearn import svm"
   ]
  },
  {
   "cell_type": "code",
   "execution_count": null,
   "metadata": {},
   "outputs": [],
   "source": [
    "#clf = svm.SVC(kernel='linear') # Linear Kernel"
   ]
  },
  {
   "cell_type": "code",
   "execution_count": null,
   "metadata": {},
   "outputs": [],
   "source": [
    "#clf.fit(X_train_std, y_train.ravel())"
   ]
  },
  {
   "cell_type": "code",
   "execution_count": null,
   "metadata": {},
   "outputs": [],
   "source": []
  }
 ],
 "metadata": {
  "kernelspec": {
   "display_name": "Python 3",
   "language": "python",
   "name": "python3"
  },
  "language_info": {
   "codemirror_mode": {
    "name": "ipython",
    "version": 3
   },
   "file_extension": ".py",
   "mimetype": "text/x-python",
   "name": "python",
   "nbconvert_exporter": "python",
   "pygments_lexer": "ipython3",
   "version": "3.8.3"
  }
 },
 "nbformat": 4,
 "nbformat_minor": 4
}
